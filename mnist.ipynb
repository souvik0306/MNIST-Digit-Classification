{
 "cells": [
  {
   "cell_type": "code",
   "execution_count": 4,
   "metadata": {},
   "outputs": [],
   "source": [
    "import numpy as np\n",
    "import matplotlib.pyplot as plt\n",
    "import seaborn as sns\n",
    "import tensorflow as tf\n",
    "from tensorflow import keras\n",
    "from sklearn.model_selection import train_test_split\n",
    "from sklearn.metrics import accuracy_score\n",
    "tf.random.set_seed(3)"
   ]
  },
  {
   "cell_type": "code",
   "execution_count": 15,
   "metadata": {},
   "outputs": [],
   "source": [
    "import cv2\n",
    "from PIL import Image"
   ]
  },
  {
   "cell_type": "code",
   "execution_count": 6,
   "metadata": {},
   "outputs": [],
   "source": [
    "from keras.datasets import mnist\n",
    "from tensorflow.math import confusion_matrix"
   ]
  },
  {
   "cell_type": "markdown",
   "metadata": {},
   "source": [
    "Loading MNIST Dataset"
   ]
  },
  {
   "cell_type": "code",
   "execution_count": 7,
   "metadata": {},
   "outputs": [],
   "source": [
    "(X_train,Y_train),(X_test,Y_test)=mnist.load_data()"
   ]
  },
  {
   "cell_type": "code",
   "execution_count": 9,
   "metadata": {},
   "outputs": [
    {
     "data": {
      "text/plain": [
       "((60000, 28, 28), (10000, 28, 28))"
      ]
     },
     "execution_count": 9,
     "metadata": {},
     "output_type": "execute_result"
    }
   ],
   "source": [
    "X_train.shape, X_test.shape"
   ]
  },
  {
   "cell_type": "code",
   "execution_count": 21,
   "metadata": {},
   "outputs": [
    {
     "data": {
      "text/plain": [
       "<matplotlib.image.AxesImage at 0x226b04c65e0>"
      ]
     },
     "execution_count": 21,
     "metadata": {},
     "output_type": "execute_result"
    },
    {
     "data": {
      "image/png": "[encoded data removed]",
      "text/plain": [
       "<Figure size 432x288 with 2 Axes>"
      ]
     },
     "metadata": {
      "needs_background": "light"
     },
     "output_type": "display_data"
    }
   ],
   "source": [
    "plt.subplot(1,2,1)\n",
    "img = Image.fromarray(X_train[5])\n",
    "plt.imshow(img)\n",
    "plt.subplot(1,2,2)\n",
    "img = Image.fromarray(X_train[12])\n",
    "plt.imshow(img)"
   ]
  },
  {
   "cell_type": "markdown",
   "metadata": {},
   "source": [
    "Setting up the Layers of NN"
   ]
  },
  {
   "cell_type": "code",
   "execution_count": 24,
   "metadata": {},
   "outputs": [],
   "source": [
    "model = keras.Sequential([\n",
    "    keras.layers.Flatten(input_shape=(28,28)),\n",
    "    keras.layers.Dense(30,activation='relu'),\n",
    "    keras.layers.Dense(60,activation='tanh'),\n",
    "    keras.layers.Dense(10,activation='softmax')\n",
    "                        ])"
   ]
  },
  {
   "cell_type": "code",
   "execution_count": 25,
   "metadata": {},
   "outputs": [],
   "source": [
    "model.compile(optimizer='adam',\n",
    "              loss = 'sparse_categorical_crossentropy',\n",
    "              metrics = ['accuracy']\n",
    "            )"
   ]
  },
  {
   "cell_type": "code",
   "execution_count": 26,
   "metadata": {},
   "outputs": [
    {
     "name": "stdout",
     "output_type": "stream",
     "text": [
      "Epoch 1/30\n",
      "1407/1407 [==============================] - 14s 7ms/step - loss: 0.8765 - accuracy: 0.7227 - val_loss: 0.4994 - val_accuracy: 0.8439\n",
      "Epoch 2/30\n",
      "1407/1407 [==============================] - 8s 6ms/step - loss: 0.4634 - accuracy: 0.8599 - val_loss: 0.3870 - val_accuracy: 0.8809\n",
      "Epoch 3/30\n",
      "1407/1407 [==============================] - 8s 6ms/step - loss: 0.3946 - accuracy: 0.8807 - val_loss: 0.3635 - val_accuracy: 0.8853\n",
      "Epoch 4/30\n",
      "1407/1407 [==============================] - 8s 6ms/step - loss: 0.3669 - accuracy: 0.8878 - val_loss: 0.3682 - val_accuracy: 0.8871\n",
      "Epoch 5/30\n",
      "1407/1407 [==============================] - 8s 6ms/step - loss: 0.3508 - accuracy: 0.8944 - val_loss: 0.3128 - val_accuracy: 0.9037\n",
      "Epoch 6/30\n",
      "1407/1407 [==============================] - 8s 6ms/step - loss: 0.3567 - accuracy: 0.8914 - val_loss: 0.3291 - val_accuracy: 0.9018\n",
      "Epoch 7/30\n",
      "1407/1407 [==============================] - 8s 6ms/step - loss: 0.3300 - accuracy: 0.9002 - val_loss: 0.3076 - val_accuracy: 0.9083\n",
      "Epoch 8/30\n",
      "1407/1407 [==============================] - 8s 6ms/step - loss: 0.3316 - accuracy: 0.9014 - val_loss: 0.3103 - val_accuracy: 0.9071\n",
      "Epoch 9/30\n",
      "1407/1407 [==============================] - 8s 6ms/step - loss: 0.3136 - accuracy: 0.9055 - val_loss: 0.3145 - val_accuracy: 0.9073\n",
      "Epoch 10/30\n",
      "1407/1407 [==============================] - 8s 6ms/step - loss: 0.3002 - accuracy: 0.9093 - val_loss: 0.2948 - val_accuracy: 0.9147\n",
      "Epoch 11/30\n",
      "1407/1407 [==============================] - 8s 6ms/step - loss: 0.3026 - accuracy: 0.9107 - val_loss: 0.2958 - val_accuracy: 0.9141\n",
      "Epoch 12/30\n",
      "1407/1407 [==============================] - 8s 6ms/step - loss: 0.2844 - accuracy: 0.9167 - val_loss: 0.2825 - val_accuracy: 0.9164\n",
      "Epoch 13/30\n",
      "1407/1407 [==============================] - 8s 6ms/step - loss: 0.2762 - accuracy: 0.9171 - val_loss: 0.2903 - val_accuracy: 0.9122\n",
      "Epoch 14/30\n",
      "1407/1407 [==============================] - 8s 6ms/step - loss: 0.2875 - accuracy: 0.9140 - val_loss: 0.2849 - val_accuracy: 0.9138\n",
      "Epoch 15/30\n",
      "1407/1407 [==============================] - 10s 7ms/step - loss: 0.2829 - accuracy: 0.9153 - val_loss: 0.3051 - val_accuracy: 0.9112\n",
      "Epoch 16/30\n",
      "1407/1407 [==============================] - 11s 7ms/step - loss: 0.2687 - accuracy: 0.9204 - val_loss: 0.2692 - val_accuracy: 0.9240\n",
      "Epoch 17/30\n",
      "1407/1407 [==============================] - 9s 6ms/step - loss: 0.2846 - accuracy: 0.9148 - val_loss: 0.2929 - val_accuracy: 0.9135\n",
      "Epoch 18/30\n",
      "1407/1407 [==============================] - 9s 6ms/step - loss: 0.2829 - accuracy: 0.9163 - val_loss: 0.2993 - val_accuracy: 0.9098\n",
      "Epoch 19/30\n",
      "1407/1407 [==============================] - 9s 6ms/step - loss: 0.2688 - accuracy: 0.9202 - val_loss: 0.2756 - val_accuracy: 0.9198\n",
      "Epoch 20/30\n",
      "1407/1407 [==============================] - 9s 6ms/step - loss: 0.2659 - accuracy: 0.9212 - val_loss: 0.2710 - val_accuracy: 0.9187\n",
      "Epoch 21/30\n",
      "1407/1407 [==============================] - 12s 9ms/step - loss: 0.2659 - accuracy: 0.9201 - val_loss: 0.2809 - val_accuracy: 0.9145\n",
      "Epoch 22/30\n",
      "1407/1407 [==============================] - 10s 7ms/step - loss: 0.2503 - accuracy: 0.9250 - val_loss: 0.2645 - val_accuracy: 0.9201\n",
      "Epoch 23/30\n",
      "1407/1407 [==============================] - 9s 6ms/step - loss: 0.2550 - accuracy: 0.9248 - val_loss: 0.2656 - val_accuracy: 0.9211\n",
      "Epoch 24/30\n",
      "1407/1407 [==============================] - 10s 7ms/step - loss: 0.2530 - accuracy: 0.9241 - val_loss: 0.2452 - val_accuracy: 0.9271\n",
      "Epoch 25/30\n",
      "1407/1407 [==============================] - 12s 8ms/step - loss: 0.2518 - accuracy: 0.9240 - val_loss: 0.2725 - val_accuracy: 0.9187\n",
      "Epoch 26/30\n",
      "1407/1407 [==============================] - 10s 7ms/step - loss: 0.2542 - accuracy: 0.9233 - val_loss: 0.2544 - val_accuracy: 0.9227\n",
      "Epoch 27/30\n",
      "1407/1407 [==============================] - 11s 8ms/step - loss: 0.2385 - accuracy: 0.9300 - val_loss: 0.2420 - val_accuracy: 0.9290\n",
      "Epoch 28/30\n",
      "1407/1407 [==============================] - 11s 8ms/step - loss: 0.2478 - accuracy: 0.9264 - val_loss: 0.2466 - val_accuracy: 0.9275\n",
      "Epoch 29/30\n",
      "1407/1407 [==============================] - 11s 8ms/step - loss: 0.2479 - accuracy: 0.9258 - val_loss: 0.2350 - val_accuracy: 0.9296\n",
      "Epoch 30/30\n",
      "1407/1407 [==============================] - 11s 8ms/step - loss: 0.2358 - accuracy: 0.9322 - val_loss: 0.2565 - val_accuracy: 0.9256\n"
     ]
    }
   ],
   "source": [
    "history = model.fit(X_train,Y_train,validation_split=0.25,epochs=30)"
   ]
  },
  {
   "cell_type": "code",
   "execution_count": 27,
   "metadata": {},
   "outputs": [
    {
     "name": "stdout",
     "output_type": "stream",
     "text": [
      "313/313 [==============================] - 2s 5ms/step - loss: 0.2479 - accuracy: 0.9265\n"
     ]
    }
   ],
   "source": [
    "loss,metrics = model.evaluate(X_test,Y_test)"
   ]
  },
  {
   "cell_type": "code",
   "execution_count": 30,
   "metadata": {},
   "outputs": [
    {
     "name": "stdout",
     "output_type": "stream",
     "text": [
      "1 9\n"
     ]
    },
    {
     "data": {
      "image/png": "[encoded data removed]",
      "text/plain": [
       "<Figure size 432x288 with 2 Axes>"
      ]
     },
     "metadata": {
      "needs_background": "light"
     },
     "output_type": "display_data"
    }
   ],
   "source": [
    "plt.subplot(1,2,1)\n",
    "img = Image.fromarray(X_test[5])\n",
    "plt.imshow(img)\n",
    "plt.subplot(1,2,2)\n",
    "img = Image.fromarray(X_test[12])\n",
    "plt.imshow(img)\n",
    "print(Y_test[5],Y_test[12])"
   ]
  },
  {
   "cell_type": "code",
   "execution_count": 31,
   "metadata": {},
   "outputs": [],
   "source": [
    "test_pred = model.predict(X_test)"
   ]
  },
  {
   "cell_type": "code",
   "execution_count": 32,
   "metadata": {},
   "outputs": [],
   "source": [
    "Y_arg_max_list = [np.argmax(i) for i in test_pred]"
   ]
  },
  {
   "cell_type": "code",
   "execution_count": 34,
   "metadata": {},
   "outputs": [
    {
     "data": {
      "text/plain": [
       "[7, 2, 1, 0, 4, 1, 4, 9, 6, 9]"
      ]
     },
     "execution_count": 34,
     "metadata": {},
     "output_type": "execute_result"
    }
   ],
   "source": [
    "Y_arg_max_list[0:10]"
   ]
  },
  {
   "cell_type": "code",
   "execution_count": 36,
   "metadata": {},
   "outputs": [
    {
     "name": "stdout",
     "output_type": "stream",
     "text": [
      "[[ 949    0    0    4    1   12    8    4    2    0]\n",
      " [   0 1119    0    4    1    2    3    1    5    0]\n",
      " [  13    1  924   32    9    4    9   13   24    3]\n",
      " [   4    5   18  909    1   42    1   12   13    5]\n",
      " [   1    2    5    1  918    1    9    1    6   38]\n",
      " [   8    2    0   16    3  829   11    0   16    7]\n",
      " [  10    3    6    1   11   19  904    0    4    0]\n",
      " [   0    8   13   13    3    5    0  959    2   25]\n",
      " [   7    5    3   48    8   42    5    7  837   12]\n",
      " [   6    8    0   12   29   16    1    9   11  917]]\n"
     ]
    }
   ],
   "source": [
    "from sklearn.metrics import confusion_matrix\n",
    "cnf_matrix = confusion_matrix(Y_test,Y_arg_max_list)\n",
    "print(cnf_matrix)"
   ]
  },
  {
   "cell_type": "code",
   "execution_count": 39,
   "metadata": {},
   "outputs": [
    {
     "data": {
      "text/plain": [
       "Text(0.5, 69.0, 'Predicted Labels')"
      ]
     },
     "execution_count": 39,
     "metadata": {},
     "output_type": "execute_result"
    },
    {
     "data": {
      "image/png": "[encoded data removed]",
      "text/plain": [
       "<Figure size 864x720 with 2 Axes>"
      ]
     },
     "metadata": {
      "needs_background": "light"
     },
     "output_type": "display_data"
    }
   ],
   "source": [
    "plt.figure(figsize=(12,10))\n",
    "sns.heatmap(cnf_matrix,annot=True,cmap ='Blues',fmt='d')\n",
    "plt.ylabel('True Labels')\n",
    "plt.xlabel('Predicted Labels')"
   ]
  },
  {
   "cell_type": "code",
   "execution_count": null,
   "metadata": {},
   "outputs": [],
   "source": []
  }
 ],
 "metadata": {
  "kernelspec": {
   "display_name": "Python 3.9.7 64-bit",
   "language": "python",
   "name": "python3"
  },
  "language_info": {
   "codemirror_mode": {
    "name": "ipython",
    "version": 3
   },
   "file_extension": ".py",
   "mimetype": "text/x-python",
   "name": "python",
   "nbconvert_exporter": "python",
   "pygments_lexer": "ipython3",
   "version": "3.9.7"
  },
  "orig_nbformat": 4,
  "vscode": {
   "interpreter": {
    "hash": "903d28fc8095cdeaee5be616f3ebb92fafee475741240b3f05159e4f3ac8bf72"
   }
  }
 },
 "nbformat": 4,
 "nbformat_minor": 2
}
