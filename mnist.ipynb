{
 "cells": [
  {
   "cell_type": "code",
   "execution_count": 1,
   "metadata": {},
   "outputs": [],
   "source": [
    "import numpy as np\n",
    "import matplotlib.pyplot as plt\n",
    "import seaborn as sns\n",
    "import tensorflow as tf\n",
    "from tensorflow import keras\n",
    "from sklearn.model_selection import train_test_split\n",
    "from sklearn.metrics import accuracy_score\n",
    "tf.random.set_seed(3)"
   ]
  },
  {
   "cell_type": "code",
   "execution_count": 2,
   "metadata": {},
   "outputs": [],
   "source": [
    "import cv2\n",
    "from PIL import Image"
   ]
  },
  {
   "cell_type": "code",
   "execution_count": 3,
   "metadata": {},
   "outputs": [],
   "source": [
    "from keras.datasets import mnist\n",
    "from tensorflow.math import confusion_matrix"
   ]
  },
  {
   "cell_type": "markdown",
   "metadata": {},
   "source": [
    "Loading MNIST Dataset"
   ]
  },
  {
   "cell_type": "code",
   "execution_count": 4,
   "metadata": {},
   "outputs": [],
   "source": [
    "(X_train,Y_train),(X_test,Y_test)=mnist.load_data()"
   ]
  },
  {
   "cell_type": "code",
   "execution_count": 5,
   "metadata": {},
   "outputs": [
    {
     "data": {
      "text/plain": [
       "((60000, 28, 28), (10000, 28, 28))"
      ]
     },
     "execution_count": 5,
     "metadata": {},
     "output_type": "execute_result"
    }
   ],
   "source": [
    "X_train.shape, X_test.shape"
   ]
  },
  {
   "cell_type": "code",
   "execution_count": 6,
   "metadata": {},
   "outputs": [
    {
     "data": {
      "text/plain": [
       "<matplotlib.image.AxesImage at 0x25d7add2580>"
      ]
     },
     "execution_count": 6,
     "metadata": {},
     "output_type": "execute_result"
    },
    {
     "data": {
      "image/png": "[encoded data removed]",
      "text/plain": [
       "<Figure size 432x288 with 2 Axes>"
      ]
     },
     "metadata": {
      "needs_background": "light"
     },
     "output_type": "display_data"
    }
   ],
   "source": [
    "plt.subplot(1,2,1)\n",
    "img = Image.fromarray(X_train[5])\n",
    "plt.imshow(img)\n",
    "plt.subplot(1,2,2)\n",
    "img = Image.fromarray(X_train[12])\n",
    "plt.imshow(img)"
   ]
  },
  {
   "cell_type": "markdown",
   "metadata": {},
   "source": [
    "Setting up the Layers of NN"
   ]
  },
  {
   "cell_type": "code",
   "execution_count": 7,
   "metadata": {},
   "outputs": [],
   "source": [
    "model = keras.Sequential([\n",
    "    keras.layers.Flatten(input_shape=(28,28)),\n",
    "    keras.layers.Dense(30,activation='relu'),\n",
    "    keras.layers.Dense(60,activation='tanh'),\n",
    "    keras.layers.Dense(10,activation='softmax')\n",
    "                        ])"
   ]
  },
  {
   "cell_type": "code",
   "execution_count": 8,
   "metadata": {},
   "outputs": [],
   "source": [
    "model.compile(optimizer='adam',\n",
    "              loss = 'sparse_categorical_crossentropy',\n",
    "              metrics = ['accuracy']\n",
    "            )"
   ]
  },
  {
   "cell_type": "code",
   "execution_count": 9,
   "metadata": {},
   "outputs": [
    {
     "name": "stdout",
     "output_type": "stream",
     "text": [
      "Epoch 1/30\n",
      "1407/1407 [==============================] - 18s 11ms/step - loss: 0.8299 - accuracy: 0.7373 - val_loss: 0.4880 - val_accuracy: 0.8495\n",
      "Epoch 2/30\n",
      "1407/1407 [==============================] - 11s 8ms/step - loss: 0.4485 - accuracy: 0.8648 - val_loss: 0.4045 - val_accuracy: 0.8803\n",
      "Epoch 3/30\n",
      "1407/1407 [==============================] - 10s 7ms/step - loss: 0.3975 - accuracy: 0.8809 - val_loss: 0.3664 - val_accuracy: 0.8919\n",
      "Epoch 4/30\n",
      "1407/1407 [==============================] - 9s 7ms/step - loss: 0.3686 - accuracy: 0.8889 - val_loss: 0.3422 - val_accuracy: 0.8991\n",
      "Epoch 5/30\n",
      "1407/1407 [==============================] - 10s 7ms/step - loss: 0.3285 - accuracy: 0.9014 - val_loss: 0.3005 - val_accuracy: 0.9112\n",
      "Epoch 6/30\n",
      "1407/1407 [==============================] - 10s 7ms/step - loss: 0.3379 - accuracy: 0.8984 - val_loss: 0.3196 - val_accuracy: 0.9045\n",
      "Epoch 7/30\n",
      "1407/1407 [==============================] - 9s 7ms/step - loss: 0.3193 - accuracy: 0.9042 - val_loss: 0.3594 - val_accuracy: 0.8895\n",
      "Epoch 8/30\n",
      "1407/1407 [==============================] - 9s 7ms/step - loss: 0.2867 - accuracy: 0.9153 - val_loss: 0.2717 - val_accuracy: 0.9204\n",
      "Epoch 9/30\n",
      "1407/1407 [==============================] - 9s 6ms/step - loss: 0.2799 - accuracy: 0.9166 - val_loss: 0.2844 - val_accuracy: 0.9163\n",
      "Epoch 10/30\n",
      "1407/1407 [==============================] - 8s 6ms/step - loss: 0.2758 - accuracy: 0.9169 - val_loss: 0.2662 - val_accuracy: 0.9201\n",
      "Epoch 11/30\n",
      "1407/1407 [==============================] - 9s 6ms/step - loss: 0.2724 - accuracy: 0.9186 - val_loss: 0.2763 - val_accuracy: 0.9171\n",
      "Epoch 12/30\n",
      "1407/1407 [==============================] - 7s 5ms/step - loss: 0.2758 - accuracy: 0.9171 - val_loss: 0.2869 - val_accuracy: 0.9153\n",
      "Epoch 13/30\n",
      "1407/1407 [==============================] - 7s 5ms/step - loss: 0.2681 - accuracy: 0.9205 - val_loss: 0.2608 - val_accuracy: 0.9221\n",
      "Epoch 14/30\n",
      "1407/1407 [==============================] - 6s 5ms/step - loss: 0.2604 - accuracy: 0.9223 - val_loss: 0.2789 - val_accuracy: 0.9181\n",
      "Epoch 15/30\n",
      "1407/1407 [==============================] - 6s 4ms/step - loss: 0.2567 - accuracy: 0.9233 - val_loss: 0.2998 - val_accuracy: 0.9116\n",
      "Epoch 16/30\n",
      "1407/1407 [==============================] - 5s 4ms/step - loss: 0.2556 - accuracy: 0.9228 - val_loss: 0.2662 - val_accuracy: 0.9212\n",
      "Epoch 17/30\n",
      "1407/1407 [==============================] - 5s 4ms/step - loss: 0.2531 - accuracy: 0.9245 - val_loss: 0.2640 - val_accuracy: 0.9227\n",
      "Epoch 18/30\n",
      "1407/1407 [==============================] - 6s 4ms/step - loss: 0.2556 - accuracy: 0.9232 - val_loss: 0.2680 - val_accuracy: 0.9189\n",
      "Epoch 19/30\n",
      "1407/1407 [==============================] - 5s 4ms/step - loss: 0.2660 - accuracy: 0.9185 - val_loss: 0.2630 - val_accuracy: 0.9209\n",
      "Epoch 20/30\n",
      "1407/1407 [==============================] - 5s 4ms/step - loss: 0.2629 - accuracy: 0.9212 - val_loss: 0.2551 - val_accuracy: 0.9250\n",
      "Epoch 21/30\n",
      "1407/1407 [==============================] - 5s 4ms/step - loss: 0.2618 - accuracy: 0.9216 - val_loss: 0.2554 - val_accuracy: 0.9250\n",
      "Epoch 22/30\n",
      "1407/1407 [==============================] - 5s 4ms/step - loss: 0.2521 - accuracy: 0.9244 - val_loss: 0.2754 - val_accuracy: 0.9154\n",
      "Epoch 23/30\n",
      "1407/1407 [==============================] - 5s 3ms/step - loss: 0.2505 - accuracy: 0.9258 - val_loss: 0.2433 - val_accuracy: 0.9276\n",
      "Epoch 24/30\n",
      "1407/1407 [==============================] - 5s 3ms/step - loss: 0.2364 - accuracy: 0.9295 - val_loss: 0.2391 - val_accuracy: 0.9304\n",
      "Epoch 25/30\n",
      "1407/1407 [==============================] - 5s 3ms/step - loss: 0.2403 - accuracy: 0.9290 - val_loss: 0.2426 - val_accuracy: 0.9326\n",
      "Epoch 26/30\n",
      "1407/1407 [==============================] - 5s 4ms/step - loss: 0.2281 - accuracy: 0.9342 - val_loss: 0.2333 - val_accuracy: 0.9331\n",
      "Epoch 27/30\n",
      "1407/1407 [==============================] - 5s 3ms/step - loss: 0.2227 - accuracy: 0.9341 - val_loss: 0.2308 - val_accuracy: 0.9357\n",
      "Epoch 28/30\n",
      "1407/1407 [==============================] - 5s 3ms/step - loss: 0.2330 - accuracy: 0.9315 - val_loss: 0.2417 - val_accuracy: 0.9305\n",
      "Epoch 29/30\n",
      "1407/1407 [==============================] - 5s 3ms/step - loss: 0.2228 - accuracy: 0.9339 - val_loss: 0.2443 - val_accuracy: 0.9292\n",
      "Epoch 30/30\n",
      "1407/1407 [==============================] - 5s 3ms/step - loss: 0.2281 - accuracy: 0.9341 - val_loss: 0.2328 - val_accuracy: 0.9331\n"
     ]
    }
   ],
   "source": [
    "history = model.fit(X_train,Y_train,validation_split=0.25,epochs=30)"
   ]
  },
  {
   "cell_type": "code",
   "execution_count": 10,
   "metadata": {},
   "outputs": [
    {
     "name": "stdout",
     "output_type": "stream",
     "text": [
      "313/313 [==============================] - 1s 2ms/step - loss: 0.2286 - accuracy: 0.9374\n"
     ]
    }
   ],
   "source": [
    "loss,metrics = model.evaluate(X_test,Y_test)"
   ]
  },
  {
   "cell_type": "code",
   "execution_count": 11,
   "metadata": {},
   "outputs": [
    {
     "name": "stdout",
     "output_type": "stream",
     "text": [
      "1 9\n"
     ]
    },
    {
     "data": {
      "image/png": "[encoded data removed]",
      "text/plain": [
       "<Figure size 432x288 with 2 Axes>"
      ]
     },
     "metadata": {
      "needs_background": "light"
     },
     "output_type": "display_data"
    }
   ],
   "source": [
    "plt.subplot(1,2,1)\n",
    "img = Image.fromarray(X_test[5])\n",
    "plt.imshow(img)\n",
    "plt.subplot(1,2,2)\n",
    "img = Image.fromarray(X_test[12])\n",
    "plt.imshow(img)\n",
    "print(Y_test[5],Y_test[12])"
   ]
  },
  {
   "cell_type": "code",
   "execution_count": 12,
   "metadata": {},
   "outputs": [],
   "source": [
    "test_pred = model.predict(X_test)"
   ]
  },
  {
   "cell_type": "code",
   "execution_count": 13,
   "metadata": {},
   "outputs": [],
   "source": [
    "Y_arg_max_list = [np.argmax(i) for i in test_pred]"
   ]
  },
  {
   "cell_type": "code",
   "execution_count": 14,
   "metadata": {},
   "outputs": [
    {
     "data": {
      "text/plain": [
       "[7, 2, 1, 0, 4, 1, 4, 9, 6, 9]"
      ]
     },
     "execution_count": 14,
     "metadata": {},
     "output_type": "execute_result"
    }
   ],
   "source": [
    "Y_arg_max_list[0:10]"
   ]
  },
  {
   "cell_type": "code",
   "execution_count": 15,
   "metadata": {},
   "outputs": [
    {
     "name": "stdout",
     "output_type": "stream",
     "text": [
      "[[ 946    0    0    0    2    4   22    2    3    1]\n",
      " [   0 1116    3    1    0    1    5    3    6    0]\n",
      " [  12    4  959   13    7    2   14    6   14    1]\n",
      " [   4    0   16  929    2   22    4   10   18    5]\n",
      " [   0    5    7    0  904    1   16    2    7   40]\n",
      " [   6    2    2   22    1  827   18    0    8    6]\n",
      " [  10    2    3    0    5    9  926    0    3    0]\n",
      " [   0    7   18    5    5    1    1  954    6   31]\n",
      " [  18    3    7   17    6   18   12    4  881    8]\n",
      " [   6    7    1   10   18    8    2   12   13  932]]\n"
     ]
    }
   ],
   "source": [
    "from sklearn.metrics import confusion_matrix\n",
    "cnf_matrix = confusion_matrix(Y_test,Y_arg_max_list)\n",
    "print(cnf_matrix)"
   ]
  },
  {
   "cell_type": "code",
   "execution_count": 16,
   "metadata": {},
   "outputs": [
    {
     "data": {
      "text/plain": [
       "Text(0.5, 69.0, 'Predicted Labels')"
      ]
     },
     "execution_count": 16,
     "metadata": {},
     "output_type": "execute_result"
    },
    {
     "data": {
      "image/png": "[encoded data removed]",
      "text/plain": [
       "<Figure size 864x720 with 2 Axes>"
      ]
     },
     "metadata": {
      "needs_background": "light"
     },
     "output_type": "display_data"
    }
   ],
   "source": [
    "plt.figure(figsize=(12,10))\n",
    "sns.heatmap(cnf_matrix,annot=True,cmap ='Blues',fmt='d')\n",
    "plt.ylabel('True Labels')\n",
    "plt.xlabel('Predicted Labels')"
   ]
  },
  {
   "cell_type": "code",
   "execution_count": 17,
   "metadata": {},
   "outputs": [],
   "source": [
    "import cv2"
   ]
  },
  {
   "cell_type": "code",
   "execution_count": 18,
   "metadata": {},
   "outputs": [
    {
     "data": {
      "text/plain": [
       "3"
      ]
     },
     "execution_count": 18,
     "metadata": {},
     "output_type": "execute_result"
    },
    {
     "data": {
      "image/png": "[encoded data removed]",
      "text/plain": [
       "<Figure size 432x288 with 1 Axes>"
      ]
     },
     "metadata": {
      "needs_background": "light"
     },
     "output_type": "display_data"
    }
   ],
   "source": [
    "test_img = cv2.imread(r'MNIST_digit.png')\n",
    "test_img = cv2.cvtColor(test_img,cv2.COLOR_RGB2GRAY)\n",
    "test_img = cv2.resize(test_img,(28,28))\n",
    "plt.imshow(test_img)\n",
    "scaled_img = test_img/255\n",
    "img_reshape = np.reshape(scaled_img,[1,28,28])\n",
    "input_pred = model.predict(img_reshape)\n",
    "np.argmax(input_pred)"
   ]
  },
  {
   "cell_type": "code",
   "execution_count": null,
   "metadata": {},
   "outputs": [],
   "source": []
  }
 ],
 "metadata": {
  "kernelspec": {
   "display_name": "Python 3.9.7 64-bit",
   "language": "python",
   "name": "python3"
  },
  "language_info": {
   "codemirror_mode": {
    "name": "ipython",
    "version": 3
   },
   "file_extension": ".py",
   "mimetype": "text/x-python",
   "name": "python",
   "nbconvert_exporter": "python",
   "pygments_lexer": "ipython3",
   "version": "3.9.7"
  },
  "orig_nbformat": 4,
  "vscode": {
   "interpreter": {
    "hash": "903d28fc8095cdeaee5be616f3ebb92fafee475741240b3f05159e4f3ac8bf72"
   }
  }
 },
 "nbformat": 4,
 "nbformat_minor": 2
}
