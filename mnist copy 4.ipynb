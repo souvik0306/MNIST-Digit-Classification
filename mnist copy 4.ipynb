{
 "cells": [
  {
   "cell_type": "code",
   "execution_count": 1,
   "metadata": {},
   "outputs": [],
   "source": [
    "import numpy as np\n",
    "import matplotlib.pyplot as plt\n",
    "import seaborn as sns\n",
    "import tensorflow as tf\n",
    "from tensorflow import keras\n",
    "from sklearn.model_selection import train_test_split\n",
    "from sklearn.metrics import accuracy_score\n",
    "tf.random.set_seed(3)"
   ]
  },
  {
   "cell_type": "code",
   "execution_count": 2,
   "metadata": {},
   "outputs": [],
   "source": [
    "import cv2\n",
    "from PIL import Image"
   ]
  },
  {
   "cell_type": "code",
   "execution_count": 3,
   "metadata": {},
   "outputs": [],
   "source": [
    "from keras.datasets import mnist\n",
    "from tensorflow.math import confusion_matrix"
   ]
  },
  {
   "cell_type": "markdown",
   "metadata": {},
   "source": [
    "Loading MNIST Dataset"
   ]
  },
  {
   "cell_type": "code",
   "execution_count": 4,
   "metadata": {},
   "outputs": [],
   "source": [
    "(X_train,Y_train),(X_test,Y_test)=mnist.load_data()"
   ]
  },
  {
   "cell_type": "code",
   "execution_count": 5,
   "metadata": {},
   "outputs": [
    {
     "data": {
      "text/plain": [
       "((60000, 28, 28), (10000, 28, 28))"
      ]
     },
     "execution_count": 5,
     "metadata": {},
     "output_type": "execute_result"
    }
   ],
   "source": [
    "X_train.shape, X_test.shape"
   ]
  },
  {
   "cell_type": "code",
   "execution_count": 6,
   "metadata": {},
   "outputs": [
    {
     "data": {
      "text/plain": [
       "<matplotlib.image.AxesImage at 0x20f74a0f850>"
      ]
     },
     "execution_count": 6,
     "metadata": {},
     "output_type": "execute_result"
    },
    {
     "data": {
      "image/png": "[encoded data removed]",
      "text/plain": [
       "<Figure size 432x288 with 2 Axes>"
      ]
     },
     "metadata": {
      "needs_background": "light"
     },
     "output_type": "display_data"
    }
   ],
   "source": [
    "plt.subplot(1,2,1)\n",
    "img = Image.fromarray(X_train[5])\n",
    "plt.imshow(img)\n",
    "plt.subplot(1,2,2)\n",
    "img = Image.fromarray(X_train[12])\n",
    "plt.imshow(img)"
   ]
  },
  {
   "cell_type": "markdown",
   "metadata": {},
   "source": [
    "Setting up the Layers of NN"
   ]
  },
  {
   "cell_type": "code",
   "execution_count": 7,
   "metadata": {},
   "outputs": [],
   "source": [
    "model = keras.Sequential([\n",
    "    keras.layers.Flatten(input_shape=(28,28)),\n",
    "    keras.layers.Dense(40,activation='relu'),\n",
    "    keras.layers.Dense(50,activation='relu'),\n",
    "    keras.layers.Dense(40,activation='relu'),\n",
    "    keras.layers.Dense(10,activation='softmax')\n",
    "                        ])"
   ]
  },
  {
   "cell_type": "code",
   "execution_count": 8,
   "metadata": {},
   "outputs": [],
   "source": [
    "model.compile(optimizer='adam',\n",
    "              loss = 'sparse_categorical_crossentropy',\n",
    "              metrics = ['accuracy']\n",
    "            )"
   ]
  },
  {
   "cell_type": "code",
   "execution_count": 9,
   "metadata": {},
   "outputs": [
    {
     "name": "stdout",
     "output_type": "stream",
     "text": [
      "Epoch 1/50\n",
      "1407/1407 [==============================] - 8s 4ms/step - loss: 1.2834 - accuracy: 0.7728 - val_loss: 0.3921 - val_accuracy: 0.8890\n",
      "Epoch 2/50\n",
      "1407/1407 [==============================] - 7s 5ms/step - loss: 0.3486 - accuracy: 0.9061 - val_loss: 0.3019 - val_accuracy: 0.9130\n",
      "Epoch 3/50\n",
      "1407/1407 [==============================] - 6s 4ms/step - loss: 0.2524 - accuracy: 0.9298 - val_loss: 0.2313 - val_accuracy: 0.9359\n",
      "Epoch 4/50\n",
      "1407/1407 [==============================] - 6s 4ms/step - loss: 0.2037 - accuracy: 0.9413 - val_loss: 0.1957 - val_accuracy: 0.9455\n",
      "Epoch 5/50\n",
      "1407/1407 [==============================] - 6s 4ms/step - loss: 0.1751 - accuracy: 0.9500 - val_loss: 0.2200 - val_accuracy: 0.9417\n",
      "Epoch 6/50\n",
      "1407/1407 [==============================] - 7s 5ms/step - loss: 0.1570 - accuracy: 0.9561 - val_loss: 0.1683 - val_accuracy: 0.9529\n",
      "Epoch 7/50\n",
      "1407/1407 [==============================] - 6s 4ms/step - loss: 0.1389 - accuracy: 0.9596 - val_loss: 0.1771 - val_accuracy: 0.9510\n",
      "Epoch 8/50\n",
      "1407/1407 [==============================] - 6s 4ms/step - loss: 0.1228 - accuracy: 0.9645 - val_loss: 0.1628 - val_accuracy: 0.9550\n",
      "Epoch 9/50\n",
      "1407/1407 [==============================] - 6s 4ms/step - loss: 0.1133 - accuracy: 0.9669 - val_loss: 0.1587 - val_accuracy: 0.9577\n",
      "Epoch 10/50\n",
      "1407/1407 [==============================] - 6s 4ms/step - loss: 0.1066 - accuracy: 0.9692 - val_loss: 0.1760 - val_accuracy: 0.9533\n",
      "Epoch 11/50\n",
      "1407/1407 [==============================] - 6s 4ms/step - loss: 0.0951 - accuracy: 0.9720 - val_loss: 0.1734 - val_accuracy: 0.9529\n",
      "Epoch 12/50\n",
      "1407/1407 [==============================] - 6s 4ms/step - loss: 0.0967 - accuracy: 0.9726 - val_loss: 0.1620 - val_accuracy: 0.9587\n",
      "Epoch 13/50\n",
      "1407/1407 [==============================] - 6s 4ms/step - loss: 0.0872 - accuracy: 0.9750 - val_loss: 0.1588 - val_accuracy: 0.9605\n",
      "Epoch 14/50\n",
      "1407/1407 [==============================] - 6s 4ms/step - loss: 0.0827 - accuracy: 0.9763 - val_loss: 0.1694 - val_accuracy: 0.9578\n",
      "Epoch 15/50\n",
      "1407/1407 [==============================] - 6s 4ms/step - loss: 0.0768 - accuracy: 0.9774 - val_loss: 0.1883 - val_accuracy: 0.9565\n",
      "Epoch 16/50\n",
      "1407/1407 [==============================] - 6s 4ms/step - loss: 0.0775 - accuracy: 0.9778 - val_loss: 0.1744 - val_accuracy: 0.9575\n",
      "Epoch 17/50\n",
      "1407/1407 [==============================] - 6s 4ms/step - loss: 0.0735 - accuracy: 0.9792 - val_loss: 0.1674 - val_accuracy: 0.9599\n",
      "Epoch 18/50\n",
      "1407/1407 [==============================] - 6s 5ms/step - loss: 0.0675 - accuracy: 0.9806 - val_loss: 0.1853 - val_accuracy: 0.9567\n",
      "Epoch 19/50\n",
      "1407/1407 [==============================] - 6s 5ms/step - loss: 0.0667 - accuracy: 0.9804 - val_loss: 0.1762 - val_accuracy: 0.9606\n",
      "Epoch 20/50\n",
      "1407/1407 [==============================] - 6s 4ms/step - loss: 0.0608 - accuracy: 0.9828 - val_loss: 0.2015 - val_accuracy: 0.9583\n",
      "Epoch 21/50\n",
      "1407/1407 [==============================] - 6s 4ms/step - loss: 0.0634 - accuracy: 0.9826 - val_loss: 0.1822 - val_accuracy: 0.9602\n",
      "Epoch 22/50\n",
      "1407/1407 [==============================] - 6s 4ms/step - loss: 0.0597 - accuracy: 0.9835 - val_loss: 0.1953 - val_accuracy: 0.9589\n",
      "Epoch 23/50\n",
      "1407/1407 [==============================] - 6s 4ms/step - loss: 0.0603 - accuracy: 0.9840 - val_loss: 0.2031 - val_accuracy: 0.9603\n",
      "Epoch 24/50\n",
      "1407/1407 [==============================] - 6s 4ms/step - loss: 0.0577 - accuracy: 0.9838 - val_loss: 0.2231 - val_accuracy: 0.9589\n",
      "Epoch 25/50\n",
      "1407/1407 [==============================] - 6s 4ms/step - loss: 0.0552 - accuracy: 0.9843 - val_loss: 0.1936 - val_accuracy: 0.9621\n",
      "Epoch 26/50\n",
      "1407/1407 [==============================] - 6s 4ms/step - loss: 0.0490 - accuracy: 0.9863 - val_loss: 0.2187 - val_accuracy: 0.9583\n",
      "Epoch 27/50\n",
      "1407/1407 [==============================] - 6s 4ms/step - loss: 0.0525 - accuracy: 0.9852 - val_loss: 0.1865 - val_accuracy: 0.9629\n",
      "Epoch 28/50\n",
      "1407/1407 [==============================] - 6s 4ms/step - loss: 0.0462 - accuracy: 0.9870 - val_loss: 0.2166 - val_accuracy: 0.9586\n",
      "Epoch 29/50\n",
      "1407/1407 [==============================] - 6s 4ms/step - loss: 0.0526 - accuracy: 0.9860 - val_loss: 0.2284 - val_accuracy: 0.9582\n",
      "Epoch 30/50\n",
      "1407/1407 [==============================] - 6s 4ms/step - loss: 0.0513 - accuracy: 0.9866 - val_loss: 0.2203 - val_accuracy: 0.9591\n",
      "Epoch 31/50\n",
      "1407/1407 [==============================] - 6s 4ms/step - loss: 0.0477 - accuracy: 0.9872 - val_loss: 0.2343 - val_accuracy: 0.9567\n",
      "Epoch 32/50\n",
      "1407/1407 [==============================] - 6s 4ms/step - loss: 0.0463 - accuracy: 0.9881 - val_loss: 0.2291 - val_accuracy: 0.9567\n",
      "Epoch 33/50\n",
      "1407/1407 [==============================] - 6s 4ms/step - loss: 0.0466 - accuracy: 0.9880 - val_loss: 0.2162 - val_accuracy: 0.9611\n",
      "Epoch 34/50\n",
      "1407/1407 [==============================] - 6s 4ms/step - loss: 0.0435 - accuracy: 0.9883 - val_loss: 0.2039 - val_accuracy: 0.9628\n",
      "Epoch 35/50\n",
      "1407/1407 [==============================] - 6s 4ms/step - loss: 0.0436 - accuracy: 0.9887 - val_loss: 0.2341 - val_accuracy: 0.9590\n",
      "Epoch 36/50\n",
      "1407/1407 [==============================] - 6s 4ms/step - loss: 0.0435 - accuracy: 0.9883 - val_loss: 0.2244 - val_accuracy: 0.9608\n",
      "Epoch 37/50\n",
      "1407/1407 [==============================] - 6s 4ms/step - loss: 0.0379 - accuracy: 0.9895 - val_loss: 0.2584 - val_accuracy: 0.9593\n",
      "Epoch 38/50\n",
      "1407/1407 [==============================] - 7s 5ms/step - loss: 0.0491 - accuracy: 0.9873 - val_loss: 0.2416 - val_accuracy: 0.9602\n",
      "Epoch 39/50\n",
      "1407/1407 [==============================] - 6s 4ms/step - loss: 0.0378 - accuracy: 0.9900 - val_loss: 0.2296 - val_accuracy: 0.9595\n",
      "Epoch 40/50\n",
      "1407/1407 [==============================] - 6s 4ms/step - loss: 0.0400 - accuracy: 0.9893 - val_loss: 0.2522 - val_accuracy: 0.9603\n",
      "Epoch 41/50\n",
      "1407/1407 [==============================] - 6s 4ms/step - loss: 0.0457 - accuracy: 0.9883 - val_loss: 0.2563 - val_accuracy: 0.9567\n",
      "Epoch 42/50\n",
      "1407/1407 [==============================] - 6s 4ms/step - loss: 0.0398 - accuracy: 0.9889 - val_loss: 0.2427 - val_accuracy: 0.9598\n",
      "Epoch 43/50\n",
      "1407/1407 [==============================] - 6s 4ms/step - loss: 0.0384 - accuracy: 0.9898 - val_loss: 0.2878 - val_accuracy: 0.9600\n",
      "Epoch 44/50\n",
      "1407/1407 [==============================] - 6s 4ms/step - loss: 0.0429 - accuracy: 0.9890 - val_loss: 0.2580 - val_accuracy: 0.9580\n",
      "Epoch 45/50\n",
      "1407/1407 [==============================] - 6s 4ms/step - loss: 0.0390 - accuracy: 0.9899 - val_loss: 0.2694 - val_accuracy: 0.9607\n",
      "Epoch 46/50\n",
      "1407/1407 [==============================] - 6s 4ms/step - loss: 0.0378 - accuracy: 0.9906 - val_loss: 0.2776 - val_accuracy: 0.9588\n",
      "Epoch 47/50\n",
      "1407/1407 [==============================] - 6s 4ms/step - loss: 0.0417 - accuracy: 0.9898 - val_loss: 0.2628 - val_accuracy: 0.9589\n",
      "Epoch 48/50\n",
      "1407/1407 [==============================] - 6s 4ms/step - loss: 0.0402 - accuracy: 0.9900 - val_loss: 0.2908 - val_accuracy: 0.9599\n",
      "Epoch 49/50\n",
      "1407/1407 [==============================] - 6s 4ms/step - loss: 0.0377 - accuracy: 0.9904 - val_loss: 0.2808 - val_accuracy: 0.9605\n",
      "Epoch 50/50\n",
      "1407/1407 [==============================] - 6s 4ms/step - loss: 0.0380 - accuracy: 0.9907 - val_loss: 0.3398 - val_accuracy: 0.9588\n"
     ]
    }
   ],
   "source": [
    "history = model.fit(X_train,Y_train,validation_split=0.25,epochs=50)"
   ]
  },
  {
   "cell_type": "code",
   "execution_count": 10,
   "metadata": {},
   "outputs": [
    {
     "name": "stdout",
     "output_type": "stream",
     "text": [
      "313/313 [==============================] - 1s 2ms/step - loss: 0.3090 - accuracy: 0.9605\n"
     ]
    }
   ],
   "source": [
    "loss,metrics = model.evaluate(X_test,Y_test)"
   ]
  },
  {
   "cell_type": "code",
   "execution_count": 11,
   "metadata": {},
   "outputs": [
    {
     "name": "stdout",
     "output_type": "stream",
     "text": [
      "1 9\n"
     ]
    },
    {
     "data": {
      "image/png": "[encoded data removed]",
      "text/plain": [
       "<Figure size 432x288 with 2 Axes>"
      ]
     },
     "metadata": {
      "needs_background": "light"
     },
     "output_type": "display_data"
    }
   ],
   "source": [
    "plt.subplot(1,2,1)\n",
    "img = Image.fromarray(X_test[5])\n",
    "plt.imshow(img)\n",
    "plt.subplot(1,2,2)\n",
    "img = Image.fromarray(X_test[12])\n",
    "plt.imshow(img)\n",
    "print(Y_test[5],Y_test[12])"
   ]
  },
  {
   "cell_type": "code",
   "execution_count": 12,
   "metadata": {},
   "outputs": [],
   "source": [
    "test_pred = model.predict(X_test)"
   ]
  },
  {
   "cell_type": "code",
   "execution_count": 13,
   "metadata": {},
   "outputs": [],
   "source": [
    "Y_arg_max_list = [np.argmax(i) for i in test_pred]"
   ]
  },
  {
   "cell_type": "code",
   "execution_count": 14,
   "metadata": {},
   "outputs": [
    {
     "data": {
      "text/plain": [
       "[7, 2, 1, 0, 4, 1, 4, 9, 5, 9]"
      ]
     },
     "execution_count": 14,
     "metadata": {},
     "output_type": "execute_result"
    }
   ],
   "source": [
    "Y_arg_max_list[0:10]"
   ]
  },
  {
   "cell_type": "code",
   "execution_count": 15,
   "metadata": {},
   "outputs": [
    {
     "name": "stdout",
     "output_type": "stream",
     "text": [
      "[[ 954    0    2    4    2    1   12    3    2    0]\n",
      " [   0 1092    3    1    0    2    4    2   31    0]\n",
      " [   6    1  983   20    1    2    6    3   10    0]\n",
      " [   0    1    9  977    0    9    0    3    9    2]\n",
      " [   1    2    1    2  939    0   14    2    4   17]\n",
      " [   2    0    1   13    0  859   10    1    3    3]\n",
      " [   1    2    2    0    2    5  941    0    5    0]\n",
      " [   1    6   11    9    1    0    0  987    5    8]\n",
      " [   6    0    4   15    2   12    4    4  924    3]\n",
      " [   2    4    2   19    8    6    1    6   12  949]]\n"
     ]
    }
   ],
   "source": [
    "from sklearn.metrics import confusion_matrix\n",
    "cnf_matrix = confusion_matrix(Y_test,Y_arg_max_list)\n",
    "print(cnf_matrix)"
   ]
  },
  {
   "cell_type": "code",
   "execution_count": 16,
   "metadata": {},
   "outputs": [
    {
     "data": {
      "text/plain": [
       "Text(0.5, 69.0, 'Predicted Labels')"
      ]
     },
     "execution_count": 16,
     "metadata": {},
     "output_type": "execute_result"
    },
    {
     "data": {
      "image/png": "[encoded data removed]",
      "text/plain": [
       "<Figure size 864x720 with 2 Axes>"
      ]
     },
     "metadata": {
      "needs_background": "light"
     },
     "output_type": "display_data"
    }
   ],
   "source": [
    "plt.figure(figsize=(12,10))\n",
    "sns.heatmap(cnf_matrix,annot=True,cmap ='Blues',fmt='d')\n",
    "plt.ylabel('True Labels')\n",
    "plt.xlabel('Predicted Labels')"
   ]
  },
  {
   "cell_type": "code",
   "execution_count": 17,
   "metadata": {},
   "outputs": [
    {
     "data": {
      "text/plain": [
       "3"
      ]
     },
     "execution_count": 17,
     "metadata": {},
     "output_type": "execute_result"
    },
    {
     "data": {
      "image/png": "[encoded data removed]",
      "text/plain": [
       "<Figure size 432x288 with 1 Axes>"
      ]
     },
     "metadata": {
      "needs_background": "light"
     },
     "output_type": "display_data"
    }
   ],
   "source": [
    "test_img = cv2.imread(r'MNIST_digit.png')\n",
    "test_img = cv2.cvtColor(test_img,cv2.COLOR_RGB2GRAY)\n",
    "test_img = cv2.resize(test_img,(28,28))\n",
    "plt.imshow(test_img)\n",
    "scaled_img = test_img/255\n",
    "img_reshape = np.reshape(scaled_img,[1,28,28])\n",
    "input_pred = model.predict(img_reshape)\n",
    "np.argmax(input_pred)"
   ]
  },
  {
   "cell_type": "code",
   "execution_count": null,
   "metadata": {},
   "outputs": [],
   "source": []
  }
 ],
 "metadata": {
  "kernelspec": {
   "display_name": "Python 3.9.7 64-bit",
   "language": "python",
   "name": "python3"
  },
  "language_info": {
   "codemirror_mode": {
    "name": "ipython",
    "version": 3
   },
   "file_extension": ".py",
   "mimetype": "text/x-python",
   "name": "python",
   "nbconvert_exporter": "python",
   "pygments_lexer": "ipython3",
   "version": "3.9.7"
  },
  "orig_nbformat": 4,
  "vscode": {
   "interpreter": {
    "hash": "903d28fc8095cdeaee5be616f3ebb92fafee475741240b3f05159e4f3ac8bf72"
   }
  }
 },
 "nbformat": 4,
 "nbformat_minor": 2
}
