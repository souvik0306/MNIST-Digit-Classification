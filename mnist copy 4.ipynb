{
 "cells": [
  {
   "cell_type": "code",
   "execution_count": 56,
   "metadata": {},
   "outputs": [],
   "source": [
    "import numpy as np\n",
    "import matplotlib.pyplot as plt\n",
    "import seaborn as sns\n",
    "import tensorflow as tf\n",
    "from tensorflow import keras\n",
    "from sklearn.model_selection import train_test_split\n",
    "from sklearn.metrics import accuracy_score\n",
    "tf.random.set_seed(3)"
   ]
  },
  {
   "cell_type": "code",
   "execution_count": 57,
   "metadata": {},
   "outputs": [],
   "source": [
    "import cv2\n",
    "from PIL import Image"
   ]
  },
  {
   "cell_type": "code",
   "execution_count": 58,
   "metadata": {},
   "outputs": [],
   "source": [
    "from keras.datasets import mnist\n",
    "from tensorflow.math import confusion_matrix"
   ]
  },
  {
   "cell_type": "markdown",
   "metadata": {},
   "source": [
    "Loading MNIST Dataset"
   ]
  },
  {
   "cell_type": "code",
   "execution_count": 59,
   "metadata": {},
   "outputs": [],
   "source": [
    "(X_train,Y_train),(X_test,Y_test)=mnist.load_data()"
   ]
  },
  {
   "cell_type": "code",
   "execution_count": 60,
   "metadata": {},
   "outputs": [
    {
     "data": {
      "text/plain": [
       "((60000, 28, 28), (10000, 28, 28))"
      ]
     },
     "execution_count": 60,
     "metadata": {},
     "output_type": "execute_result"
    }
   ],
   "source": [
    "X_train.shape, X_test.shape"
   ]
  },
  {
   "cell_type": "code",
   "execution_count": 61,
   "metadata": {},
   "outputs": [
    {
     "data": {
      "text/plain": [
       "<matplotlib.image.AxesImage at 0x245234453d0>"
      ]
     },
     "execution_count": 61,
     "metadata": {},
     "output_type": "execute_result"
    },
    {
     "data": {
      "image/png": "[encoded data removed]",
      "text/plain": [
       "<Figure size 432x288 with 2 Axes>"
      ]
     },
     "metadata": {
      "needs_background": "light"
     },
     "output_type": "display_data"
    }
   ],
   "source": [
    "plt.subplot(1,2,1)\n",
    "img = Image.fromarray(X_train[5])\n",
    "plt.imshow(img)\n",
    "plt.subplot(1,2,2)\n",
    "img = Image.fromarray(X_train[12])\n",
    "plt.imshow(img)"
   ]
  },
  {
   "cell_type": "markdown",
   "metadata": {},
   "source": [
    "Setting up the Layers of NN"
   ]
  },
  {
   "cell_type": "code",
   "execution_count": 62,
   "metadata": {},
   "outputs": [],
   "source": [
    "model = keras.Sequential([\n",
    "    keras.layers.Flatten(input_shape=(28,28)),\n",
    "    keras.layers.Dense(40,activation='relu'),\n",
    "    keras.layers.Dense(80,activation='relu'),\n",
    "    keras.layers.Dense(60,activation='relu'),\n",
    "    keras.layers.Dense(10,activation='softmax')\n",
    "                        ])"
   ]
  },
  {
   "cell_type": "code",
   "execution_count": 63,
   "metadata": {},
   "outputs": [],
   "source": [
    "model.compile(optimizer='adam',\n",
    "              loss = 'sparse_categorical_crossentropy',\n",
    "              metrics = ['accuracy']\n",
    "            )"
   ]
  },
  {
   "cell_type": "code",
   "execution_count": 64,
   "metadata": {},
   "outputs": [
    {
     "name": "stdout",
     "output_type": "stream",
     "text": [
      "Epoch 1/50\n",
      "1407/1407 [==============================] - 13s 9ms/step - loss: 1.1604 - accuracy: 0.7520 - val_loss: 0.4183 - val_accuracy: 0.8858\n",
      "Epoch 2/50\n",
      "1407/1407 [==============================] - 10s 7ms/step - loss: 0.3698 - accuracy: 0.8977 - val_loss: 0.3242 - val_accuracy: 0.9133\n",
      "Epoch 3/50\n",
      "1407/1407 [==============================] - 9s 7ms/step - loss: 0.2836 - accuracy: 0.9200 - val_loss: 0.2636 - val_accuracy: 0.9259\n",
      "Epoch 4/50\n",
      "1407/1407 [==============================] - 9s 7ms/step - loss: 0.2455 - accuracy: 0.9317 - val_loss: 0.2226 - val_accuracy: 0.9387\n",
      "Epoch 5/50\n",
      "1407/1407 [==============================] - 9s 7ms/step - loss: 0.2219 - accuracy: 0.9368 - val_loss: 0.2262 - val_accuracy: 0.9352\n",
      "Epoch 6/50\n",
      "1407/1407 [==============================] - 9s 7ms/step - loss: 0.1983 - accuracy: 0.9429 - val_loss: 0.2179 - val_accuracy: 0.9398\n",
      "Epoch 7/50\n",
      "1407/1407 [==============================] - 10s 7ms/step - loss: 0.1827 - accuracy: 0.9479 - val_loss: 0.1913 - val_accuracy: 0.9444\n",
      "Epoch 8/50\n",
      "1407/1407 [==============================] - 10s 7ms/step - loss: 0.1692 - accuracy: 0.9504 - val_loss: 0.2140 - val_accuracy: 0.9417\n",
      "Epoch 9/50\n",
      "1407/1407 [==============================] - 10s 7ms/step - loss: 0.1580 - accuracy: 0.9546 - val_loss: 0.1833 - val_accuracy: 0.9479\n",
      "Epoch 10/50\n",
      "1407/1407 [==============================] - 9s 7ms/step - loss: 0.1457 - accuracy: 0.9573 - val_loss: 0.1991 - val_accuracy: 0.9480\n",
      "Epoch 11/50\n",
      "1407/1407 [==============================] - 10s 7ms/step - loss: 0.1344 - accuracy: 0.9610 - val_loss: 0.1868 - val_accuracy: 0.9512\n",
      "Epoch 12/50\n",
      "1407/1407 [==============================] - 10s 7ms/step - loss: 0.1244 - accuracy: 0.9633 - val_loss: 0.1891 - val_accuracy: 0.9515\n",
      "Epoch 13/50\n",
      "1407/1407 [==============================] - 10s 7ms/step - loss: 0.1246 - accuracy: 0.9640 - val_loss: 0.1913 - val_accuracy: 0.9508\n",
      "Epoch 14/50\n",
      "1407/1407 [==============================] - 10s 7ms/step - loss: 0.1127 - accuracy: 0.9677 - val_loss: 0.1780 - val_accuracy: 0.9540\n",
      "Epoch 15/50\n",
      "1407/1407 [==============================] - 9s 7ms/step - loss: 0.1089 - accuracy: 0.9688 - val_loss: 0.1811 - val_accuracy: 0.9531\n",
      "Epoch 16/50\n",
      "1407/1407 [==============================] - 9s 7ms/step - loss: 0.1011 - accuracy: 0.9705 - val_loss: 0.1984 - val_accuracy: 0.9512\n",
      "Epoch 17/50\n",
      "1407/1407 [==============================] - 9s 7ms/step - loss: 0.1032 - accuracy: 0.9712 - val_loss: 0.1787 - val_accuracy: 0.9533\n",
      "Epoch 18/50\n",
      "1407/1407 [==============================] - 9s 7ms/step - loss: 0.0931 - accuracy: 0.9728 - val_loss: 0.1920 - val_accuracy: 0.9511\n",
      "Epoch 19/50\n",
      "1407/1407 [==============================] - 9s 7ms/step - loss: 0.0927 - accuracy: 0.9736 - val_loss: 0.1964 - val_accuracy: 0.9563\n",
      "Epoch 20/50\n",
      "1407/1407 [==============================] - 10s 7ms/step - loss: 0.0881 - accuracy: 0.9746 - val_loss: 0.1864 - val_accuracy: 0.9551\n",
      "Epoch 21/50\n",
      "1407/1407 [==============================] - 8s 6ms/step - loss: 0.0813 - accuracy: 0.9767 - val_loss: 0.1880 - val_accuracy: 0.9585\n",
      "Epoch 22/50\n",
      "1407/1407 [==============================] - 9s 6ms/step - loss: 0.0810 - accuracy: 0.9761 - val_loss: 0.1893 - val_accuracy: 0.9541\n",
      "Epoch 23/50\n",
      "1407/1407 [==============================] - 10s 7ms/step - loss: 0.0761 - accuracy: 0.9774 - val_loss: 0.2236 - val_accuracy: 0.9502\n",
      "Epoch 24/50\n",
      "1407/1407 [==============================] - 9s 7ms/step - loss: 0.0788 - accuracy: 0.9772 - val_loss: 0.2362 - val_accuracy: 0.9537\n",
      "Epoch 25/50\n",
      "1407/1407 [==============================] - 9s 7ms/step - loss: 0.0763 - accuracy: 0.9780 - val_loss: 0.2012 - val_accuracy: 0.9567\n",
      "Epoch 26/50\n",
      "1407/1407 [==============================] - 9s 7ms/step - loss: 0.0686 - accuracy: 0.9795 - val_loss: 0.2170 - val_accuracy: 0.9543\n",
      "Epoch 27/50\n",
      "1407/1407 [==============================] - 9s 7ms/step - loss: 0.0748 - accuracy: 0.9782 - val_loss: 0.2022 - val_accuracy: 0.9555\n",
      "Epoch 28/50\n",
      "1407/1407 [==============================] - 9s 7ms/step - loss: 0.0691 - accuracy: 0.9798 - val_loss: 0.2091 - val_accuracy: 0.9568\n",
      "Epoch 29/50\n",
      "1407/1407 [==============================] - 9s 7ms/step - loss: 0.0710 - accuracy: 0.9809 - val_loss: 0.2129 - val_accuracy: 0.9579\n",
      "Epoch 30/50\n",
      "1407/1407 [==============================] - 9s 7ms/step - loss: 0.0648 - accuracy: 0.9814 - val_loss: 0.1919 - val_accuracy: 0.9586\n",
      "Epoch 31/50\n",
      "1407/1407 [==============================] - 9s 7ms/step - loss: 0.0717 - accuracy: 0.9813 - val_loss: 0.2028 - val_accuracy: 0.9563\n",
      "Epoch 32/50\n",
      "1407/1407 [==============================] - 9s 7ms/step - loss: 0.0647 - accuracy: 0.9816 - val_loss: 0.2124 - val_accuracy: 0.9580\n",
      "Epoch 33/50\n",
      "1407/1407 [==============================] - 9s 7ms/step - loss: 0.0581 - accuracy: 0.9837 - val_loss: 0.2407 - val_accuracy: 0.9540\n",
      "Epoch 34/50\n",
      "1407/1407 [==============================] - 9s 7ms/step - loss: 0.0641 - accuracy: 0.9824 - val_loss: 0.2356 - val_accuracy: 0.9581\n",
      "Epoch 35/50\n",
      "1407/1407 [==============================] - 9s 7ms/step - loss: 0.0630 - accuracy: 0.9828 - val_loss: 0.2318 - val_accuracy: 0.9585\n",
      "Epoch 36/50\n",
      "1407/1407 [==============================] - 9s 6ms/step - loss: 0.0582 - accuracy: 0.9839 - val_loss: 0.2374 - val_accuracy: 0.9567\n",
      "Epoch 37/50\n",
      "1407/1407 [==============================] - 9s 7ms/step - loss: 0.0561 - accuracy: 0.9841 - val_loss: 0.2596 - val_accuracy: 0.9540\n",
      "Epoch 38/50\n",
      "1407/1407 [==============================] - 9s 7ms/step - loss: 0.0610 - accuracy: 0.9827 - val_loss: 0.2166 - val_accuracy: 0.9582\n",
      "Epoch 39/50\n",
      "1407/1407 [==============================] - 9s 7ms/step - loss: 0.0574 - accuracy: 0.9842 - val_loss: 0.2145 - val_accuracy: 0.9571\n",
      "Epoch 40/50\n",
      "1407/1407 [==============================] - 9s 7ms/step - loss: 0.0573 - accuracy: 0.9840 - val_loss: 0.1967 - val_accuracy: 0.9579\n",
      "Epoch 41/50\n",
      "1407/1407 [==============================] - 10s 7ms/step - loss: 0.0524 - accuracy: 0.9856 - val_loss: 0.2392 - val_accuracy: 0.9579\n",
      "Epoch 42/50\n",
      "1407/1407 [==============================] - 9s 7ms/step - loss: 0.0569 - accuracy: 0.9845 - val_loss: 0.2260 - val_accuracy: 0.9586\n",
      "Epoch 43/50\n",
      "1407/1407 [==============================] - 9s 7ms/step - loss: 0.0608 - accuracy: 0.9843 - val_loss: 0.2212 - val_accuracy: 0.9575\n",
      "Epoch 44/50\n",
      "1407/1407 [==============================] - 9s 7ms/step - loss: 0.0496 - accuracy: 0.9864 - val_loss: 0.2187 - val_accuracy: 0.9586\n",
      "Epoch 45/50\n",
      "1407/1407 [==============================] - 9s 6ms/step - loss: 0.0521 - accuracy: 0.9858 - val_loss: 0.2503 - val_accuracy: 0.9573\n",
      "Epoch 46/50\n",
      "1407/1407 [==============================] - 9s 7ms/step - loss: 0.0478 - accuracy: 0.9868 - val_loss: 0.2870 - val_accuracy: 0.9576\n",
      "Epoch 47/50\n",
      "1407/1407 [==============================] - 9s 7ms/step - loss: 0.0506 - accuracy: 0.9861 - val_loss: 0.2541 - val_accuracy: 0.9578\n",
      "Epoch 48/50\n",
      "1407/1407 [==============================] - 9s 7ms/step - loss: 0.0478 - accuracy: 0.9876 - val_loss: 0.2714 - val_accuracy: 0.9583\n",
      "Epoch 49/50\n",
      "1407/1407 [==============================] - 9s 7ms/step - loss: 0.0524 - accuracy: 0.9857 - val_loss: 0.2380 - val_accuracy: 0.9566\n",
      "Epoch 50/50\n",
      "1407/1407 [==============================] - 9s 7ms/step - loss: 0.0507 - accuracy: 0.9866 - val_loss: 0.2355 - val_accuracy: 0.9601\n"
     ]
    }
   ],
   "source": [
    "history = model.fit(X_train,Y_train,validation_split=0.25,epochs=50)"
   ]
  },
  {
   "cell_type": "code",
   "execution_count": 65,
   "metadata": {},
   "outputs": [
    {
     "name": "stdout",
     "output_type": "stream",
     "text": [
      "313/313 [==============================] - 2s 5ms/step - loss: 0.2433 - accuracy: 0.9614\n"
     ]
    }
   ],
   "source": [
    "loss,metrics = model.evaluate(X_test,Y_test)"
   ]
  },
  {
   "cell_type": "code",
   "execution_count": 66,
   "metadata": {},
   "outputs": [
    {
     "name": "stdout",
     "output_type": "stream",
     "text": [
      "1 9\n"
     ]
    },
    {
     "data": {
      "image/png": "[encoded data removed]",
      "text/plain": [
       "<Figure size 432x288 with 2 Axes>"
      ]
     },
     "metadata": {
      "needs_background": "light"
     },
     "output_type": "display_data"
    }
   ],
   "source": [
    "plt.subplot(1,2,1)\n",
    "img = Image.fromarray(X_test[5])\n",
    "plt.imshow(img)\n",
    "plt.subplot(1,2,2)\n",
    "img = Image.fromarray(X_test[12])\n",
    "plt.imshow(img)\n",
    "print(Y_test[5],Y_test[12])"
   ]
  },
  {
   "cell_type": "code",
   "execution_count": 67,
   "metadata": {},
   "outputs": [],
   "source": [
    "test_pred = model.predict(X_test)"
   ]
  },
  {
   "cell_type": "code",
   "execution_count": 68,
   "metadata": {},
   "outputs": [],
   "source": [
    "Y_arg_max_list = [np.argmax(i) for i in test_pred]"
   ]
  },
  {
   "cell_type": "code",
   "execution_count": 69,
   "metadata": {},
   "outputs": [
    {
     "data": {
      "text/plain": [
       "[7, 2, 1, 0, 4, 1, 4, 9, 5, 9]"
      ]
     },
     "execution_count": 69,
     "metadata": {},
     "output_type": "execute_result"
    }
   ],
   "source": [
    "Y_arg_max_list[0:10]"
   ]
  },
  {
   "cell_type": "code",
   "execution_count": 70,
   "metadata": {},
   "outputs": [
    {
     "name": "stdout",
     "output_type": "stream",
     "text": [
      "[[ 971    0    1    0    2    1    1    1    2    1]\n",
      " [   0 1119    2    4    0    0    2    1    7    0]\n",
      " [   6    2  997    7    3    4    1    3    9    0]\n",
      " [   4    0   11  961    1    9    0    6   10    8]\n",
      " [   1    0    3    0  941    0    4    4    2   27]\n",
      " [   3    0    1   23    1  844    9    0    8    3]\n",
      " [   9    3    0    0    9    6  921    0   10    0]\n",
      " [   3    6   12    7    5    2    0  973    6   14]\n",
      " [   7    0    4   10    6    4    2    4  930    7]\n",
      " [   6    5    1   10    8    3    1    9    9  957]]\n"
     ]
    }
   ],
   "source": [
    "from sklearn.metrics import confusion_matrix\n",
    "cnf_matrix = confusion_matrix(Y_test,Y_arg_max_list)\n",
    "print(cnf_matrix)"
   ]
  },
  {
   "cell_type": "code",
   "execution_count": 71,
   "metadata": {},
   "outputs": [
    {
     "data": {
      "text/plain": [
       "Text(0.5, 69.0, 'Predicted Labels')"
      ]
     },
     "execution_count": 71,
     "metadata": {},
     "output_type": "execute_result"
    },
    {
     "data": {
      "image/png": "[encoded data removed]",
      "text/plain": [
       "<Figure size 864x720 with 2 Axes>"
      ]
     },
     "metadata": {
      "needs_background": "light"
     },
     "output_type": "display_data"
    }
   ],
   "source": [
    "plt.figure(figsize=(12,10))\n",
    "sns.heatmap(cnf_matrix,annot=True,cmap ='Blues',fmt='d')\n",
    "plt.ylabel('True Labels')\n",
    "plt.xlabel('Predicted Labels')"
   ]
  },
  {
   "cell_type": "code",
   "execution_count": 72,
   "metadata": {},
   "outputs": [
    {
     "data": {
      "text/plain": [
       "8"
      ]
     },
     "execution_count": 72,
     "metadata": {},
     "output_type": "execute_result"
    },
    {
     "data": {
      "image/png": "[encoded data removed]",
      "text/plain": [
       "<Figure size 432x288 with 1 Axes>"
      ]
     },
     "metadata": {
      "needs_background": "light"
     },
     "output_type": "display_data"
    }
   ],
   "source": [
    "test_img = cv2.imread(r'MNIST_digit.png')\n",
    "test_img = cv2.cvtColor(test_img,cv2.COLOR_RGB2GRAY)\n",
    "test_img = cv2.resize(test_img,(28,28))\n",
    "plt.imshow(test_img)\n",
    "scaled_img = test_img/255\n",
    "img_reshape = np.reshape(scaled_img,[1,28,28])\n",
    "input_pred = model.predict(img_reshape)\n",
    "np.argmax(input_pred)"
   ]
  },
  {
   "cell_type": "code",
   "execution_count": null,
   "metadata": {},
   "outputs": [],
   "source": []
  }
 ],
 "metadata": {
  "kernelspec": {
   "display_name": "Python 3.9.7 64-bit",
   "language": "python",
   "name": "python3"
  },
  "language_info": {
   "codemirror_mode": {
    "name": "ipython",
    "version": 3
   },
   "file_extension": ".py",
   "mimetype": "text/x-python",
   "name": "python",
   "nbconvert_exporter": "python",
   "pygments_lexer": "ipython3",
   "version": "3.9.7"
  },
  "orig_nbformat": 4,
  "vscode": {
   "interpreter": {
    "hash": "903d28fc8095cdeaee5be616f3ebb92fafee475741240b3f05159e4f3ac8bf72"
   }
  }
 },
 "nbformat": 4,
 "nbformat_minor": 2
}
