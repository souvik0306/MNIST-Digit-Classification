{
 "cells": [
  {
   "cell_type": "code",
   "execution_count": 1,
   "metadata": {},
   "outputs": [],
   "source": [
    "import numpy as np\n",
    "import matplotlib.pyplot as plt\n",
    "import seaborn as sns\n",
    "import tensorflow as tf\n",
    "from tensorflow import keras\n",
    "from sklearn.model_selection import train_test_split\n",
    "from sklearn.metrics import accuracy_score\n",
    "tf.random.set_seed(3)"
   ]
  },
  {
   "cell_type": "code",
   "execution_count": 2,
   "metadata": {},
   "outputs": [],
   "source": [
    "import cv2\n",
    "from PIL import Image"
   ]
  },
  {
   "cell_type": "code",
   "execution_count": 3,
   "metadata": {},
   "outputs": [],
   "source": [
    "from keras.datasets import mnist\n",
    "from tensorflow.math import confusion_matrix"
   ]
  },
  {
   "cell_type": "markdown",
   "metadata": {},
   "source": [
    "Loading MNIST Dataset"
   ]
  },
  {
   "cell_type": "code",
   "execution_count": 4,
   "metadata": {},
   "outputs": [],
   "source": [
    "(X_train,Y_train),(X_test,Y_test)=mnist.load_data()"
   ]
  },
  {
   "cell_type": "code",
   "execution_count": 5,
   "metadata": {},
   "outputs": [
    {
     "data": {
      "text/plain": [
       "((60000, 28, 28), (10000, 28, 28))"
      ]
     },
     "execution_count": 5,
     "metadata": {},
     "output_type": "execute_result"
    }
   ],
   "source": [
    "X_train.shape, X_test.shape"
   ]
  },
  {
   "cell_type": "code",
   "execution_count": 6,
   "metadata": {},
   "outputs": [
    {
     "data": {
      "text/plain": [
       "<matplotlib.image.AxesImage at 0x206854c0880>"
      ]
     },
     "execution_count": 6,
     "metadata": {},
     "output_type": "execute_result"
    },
    {
     "data": {
      "image/png": "[encoded data removed]",
      "text/plain": [
       "<Figure size 432x288 with 2 Axes>"
      ]
     },
     "metadata": {
      "needs_background": "light"
     },
     "output_type": "display_data"
    }
   ],
   "source": [
    "plt.subplot(1,2,1)\n",
    "img = Image.fromarray(X_train[5])\n",
    "plt.imshow(img)\n",
    "plt.subplot(1,2,2)\n",
    "img = Image.fromarray(X_train[12])\n",
    "plt.imshow(img)"
   ]
  },
  {
   "cell_type": "markdown",
   "metadata": {},
   "source": [
    "Setting up the Layers of NN"
   ]
  },
  {
   "cell_type": "code",
   "execution_count": 7,
   "metadata": {},
   "outputs": [],
   "source": [
    "model = keras.Sequential([\n",
    "    keras.layers.Flatten(input_shape=(28,28)),\n",
    "    keras.layers.Dense(30,activation='tanh'),\n",
    "    keras.layers.Dense(60,activation='relu'),\n",
    "    keras.layers.Dense(10,activation='softmax')\n",
    "                        ])"
   ]
  },
  {
   "cell_type": "code",
   "execution_count": 8,
   "metadata": {},
   "outputs": [],
   "source": [
    "model.compile(optimizer='adam',\n",
    "              loss = 'sparse_categorical_crossentropy',\n",
    "              metrics = ['accuracy']\n",
    "            )"
   ]
  },
  {
   "cell_type": "code",
   "execution_count": 9,
   "metadata": {},
   "outputs": [
    {
     "name": "stdout",
     "output_type": "stream",
     "text": [
      "Epoch 1/50\n",
      "1407/1407 [==============================] - 11s 6ms/step - loss: 0.9105 - accuracy: 0.6990 - val_loss: 0.7298 - val_accuracy: 0.7620\n",
      "Epoch 2/50\n",
      "1407/1407 [==============================] - 7s 5ms/step - loss: 0.6424 - accuracy: 0.7957 - val_loss: 0.6730 - val_accuracy: 0.7765\n",
      "Epoch 3/50\n",
      "1407/1407 [==============================] - 9s 6ms/step - loss: 0.6797 - accuracy: 0.7736 - val_loss: 0.5639 - val_accuracy: 0.8135\n",
      "Epoch 4/50\n",
      "1407/1407 [==============================] - 9s 6ms/step - loss: 0.5318 - accuracy: 0.8281 - val_loss: 0.5210 - val_accuracy: 0.8305\n",
      "Epoch 5/50\n",
      "1407/1407 [==============================] - 10s 7ms/step - loss: 0.5015 - accuracy: 0.8424 - val_loss: 0.4636 - val_accuracy: 0.8495\n",
      "Epoch 6/50\n",
      "1407/1407 [==============================] - 10s 7ms/step - loss: 0.4645 - accuracy: 0.8536 - val_loss: 0.4265 - val_accuracy: 0.8675\n",
      "Epoch 7/50\n",
      "1407/1407 [==============================] - 9s 6ms/step - loss: 0.4442 - accuracy: 0.8592 - val_loss: 0.4273 - val_accuracy: 0.8639\n",
      "Epoch 8/50\n",
      "1407/1407 [==============================] - 10s 7ms/step - loss: 0.4300 - accuracy: 0.8631 - val_loss: 0.4090 - val_accuracy: 0.8704\n",
      "Epoch 9/50\n",
      "1407/1407 [==============================] - 9s 6ms/step - loss: 0.4056 - accuracy: 0.8736 - val_loss: 0.4202 - val_accuracy: 0.8653\n",
      "Epoch 10/50\n",
      "1407/1407 [==============================] - 9s 6ms/step - loss: 0.3875 - accuracy: 0.8784 - val_loss: 0.3721 - val_accuracy: 0.8808\n",
      "Epoch 11/50\n",
      "1407/1407 [==============================] - 9s 6ms/step - loss: 0.3830 - accuracy: 0.8778 - val_loss: 0.3760 - val_accuracy: 0.8826\n",
      "Epoch 12/50\n",
      "1407/1407 [==============================] - 9s 6ms/step - loss: 0.3866 - accuracy: 0.8791 - val_loss: 0.3903 - val_accuracy: 0.8804\n",
      "Epoch 13/50\n",
      "1407/1407 [==============================] - 9s 6ms/step - loss: 0.4032 - accuracy: 0.8724 - val_loss: 0.3526 - val_accuracy: 0.8923\n",
      "Epoch 14/50\n",
      "1407/1407 [==============================] - 9s 6ms/step - loss: 0.3666 - accuracy: 0.8835 - val_loss: 0.3705 - val_accuracy: 0.8798\n",
      "Epoch 15/50\n",
      "1407/1407 [==============================] - 9s 6ms/step - loss: 0.3596 - accuracy: 0.8845 - val_loss: 0.3651 - val_accuracy: 0.8816\n",
      "Epoch 16/50\n",
      "1407/1407 [==============================] - 11s 8ms/step - loss: 0.3624 - accuracy: 0.8848 - val_loss: 0.3813 - val_accuracy: 0.8811\n",
      "Epoch 17/50\n",
      "1407/1407 [==============================] - 9s 7ms/step - loss: 0.3551 - accuracy: 0.8876 - val_loss: 0.3847 - val_accuracy: 0.8761\n",
      "Epoch 18/50\n",
      "1407/1407 [==============================] - 9s 6ms/step - loss: 0.3593 - accuracy: 0.8873 - val_loss: 0.3398 - val_accuracy: 0.8991\n",
      "Epoch 19/50\n",
      "1407/1407 [==============================] - 9s 6ms/step - loss: 0.3541 - accuracy: 0.8876 - val_loss: 0.3611 - val_accuracy: 0.8793\n",
      "Epoch 20/50\n",
      "1407/1407 [==============================] - 9s 7ms/step - loss: 0.3481 - accuracy: 0.8903 - val_loss: 0.3382 - val_accuracy: 0.8953\n",
      "Epoch 21/50\n",
      "1407/1407 [==============================] - 9s 7ms/step - loss: 0.3380 - accuracy: 0.8931 - val_loss: 0.3168 - val_accuracy: 0.8987\n",
      "Epoch 22/50\n",
      "1407/1407 [==============================] - 8s 6ms/step - loss: 0.3337 - accuracy: 0.8948 - val_loss: 0.3426 - val_accuracy: 0.8900\n",
      "Epoch 23/50\n",
      "1407/1407 [==============================] - 9s 6ms/step - loss: 0.3276 - accuracy: 0.8963 - val_loss: 0.3084 - val_accuracy: 0.9036\n",
      "Epoch 24/50\n",
      "1407/1407 [==============================] - 8s 6ms/step - loss: 0.2942 - accuracy: 0.9078 - val_loss: 0.2937 - val_accuracy: 0.9109\n",
      "Epoch 25/50\n",
      "1407/1407 [==============================] - 8s 6ms/step - loss: 0.3141 - accuracy: 0.8997 - val_loss: 0.3180 - val_accuracy: 0.8958\n",
      "Epoch 26/50\n",
      "1407/1407 [==============================] - 8s 6ms/step - loss: 0.3090 - accuracy: 0.9009 - val_loss: 0.3255 - val_accuracy: 0.8971\n",
      "Epoch 27/50\n",
      "1407/1407 [==============================] - 8s 6ms/step - loss: 0.3283 - accuracy: 0.8964 - val_loss: 0.3750 - val_accuracy: 0.8778\n",
      "Epoch 28/50\n",
      "1407/1407 [==============================] - 8s 6ms/step - loss: 0.3377 - accuracy: 0.8924 - val_loss: 0.3199 - val_accuracy: 0.8989\n",
      "Epoch 29/50\n",
      "1407/1407 [==============================] - 9s 6ms/step - loss: 0.3503 - accuracy: 0.8883 - val_loss: 0.3574 - val_accuracy: 0.8843\n",
      "Epoch 30/50\n",
      "1407/1407 [==============================] - 8s 6ms/step - loss: 0.3565 - accuracy: 0.8851 - val_loss: 0.3311 - val_accuracy: 0.8923\n",
      "Epoch 31/50\n",
      "1407/1407 [==============================] - 9s 6ms/step - loss: 0.3101 - accuracy: 0.9026 - val_loss: 0.3248 - val_accuracy: 0.8983\n",
      "Epoch 32/50\n",
      "1407/1407 [==============================] - 8s 6ms/step - loss: 0.3042 - accuracy: 0.9042 - val_loss: 0.3180 - val_accuracy: 0.9011\n",
      "Epoch 33/50\n",
      "1407/1407 [==============================] - 9s 7ms/step - loss: 0.2948 - accuracy: 0.9077 - val_loss: 0.2846 - val_accuracy: 0.9133\n",
      "Epoch 34/50\n",
      "1407/1407 [==============================] - 8s 6ms/step - loss: 0.2821 - accuracy: 0.9135 - val_loss: 0.2847 - val_accuracy: 0.9139\n",
      "Epoch 35/50\n",
      "1407/1407 [==============================] - 8s 6ms/step - loss: 0.2671 - accuracy: 0.9175 - val_loss: 0.2886 - val_accuracy: 0.9121\n",
      "Epoch 36/50\n",
      "1407/1407 [==============================] - 8s 6ms/step - loss: 0.2745 - accuracy: 0.9137 - val_loss: 0.2762 - val_accuracy: 0.9171\n",
      "Epoch 37/50\n",
      "1407/1407 [==============================] - 8s 6ms/step - loss: 0.2738 - accuracy: 0.9164 - val_loss: 0.3178 - val_accuracy: 0.9036\n",
      "Epoch 38/50\n",
      "1407/1407 [==============================] - 8s 6ms/step - loss: 0.2990 - accuracy: 0.9072 - val_loss: 0.2947 - val_accuracy: 0.9121\n",
      "Epoch 39/50\n",
      "1407/1407 [==============================] - 8s 6ms/step - loss: 0.2809 - accuracy: 0.9139 - val_loss: 0.2954 - val_accuracy: 0.9097\n",
      "Epoch 40/50\n",
      "1407/1407 [==============================] - 8s 6ms/step - loss: 0.2966 - accuracy: 0.9075 - val_loss: 0.2950 - val_accuracy: 0.9087\n",
      "Epoch 41/50\n",
      "1407/1407 [==============================] - 8s 6ms/step - loss: 0.2793 - accuracy: 0.9153 - val_loss: 0.2861 - val_accuracy: 0.9141\n",
      "Epoch 42/50\n",
      "1407/1407 [==============================] - 8s 6ms/step - loss: 0.2747 - accuracy: 0.9161 - val_loss: 0.2802 - val_accuracy: 0.9163\n",
      "Epoch 43/50\n",
      "1407/1407 [==============================] - 8s 6ms/step - loss: 0.2670 - accuracy: 0.9164 - val_loss: 0.2873 - val_accuracy: 0.9111\n",
      "Epoch 44/50\n",
      "1407/1407 [==============================] - 8s 6ms/step - loss: 0.2684 - accuracy: 0.9169 - val_loss: 0.2798 - val_accuracy: 0.9141\n",
      "Epoch 45/50\n",
      "1407/1407 [==============================] - 8s 6ms/step - loss: 0.2724 - accuracy: 0.9155 - val_loss: 0.2776 - val_accuracy: 0.9167\n",
      "Epoch 46/50\n",
      "1407/1407 [==============================] - 9s 6ms/step - loss: 0.2625 - accuracy: 0.9175 - val_loss: 0.2833 - val_accuracy: 0.9091\n",
      "Epoch 47/50\n",
      "1407/1407 [==============================] - 10s 7ms/step - loss: 0.2680 - accuracy: 0.9165 - val_loss: 0.2638 - val_accuracy: 0.9182\n",
      "Epoch 48/50\n",
      "1407/1407 [==============================] - 8s 5ms/step - loss: 0.2657 - accuracy: 0.9168 - val_loss: 0.2787 - val_accuracy: 0.9151\n",
      "Epoch 49/50\n",
      "1407/1407 [==============================] - 7s 5ms/step - loss: 0.2779 - accuracy: 0.9138 - val_loss: 0.3039 - val_accuracy: 0.9067\n",
      "Epoch 50/50\n",
      "1407/1407 [==============================] - 7s 5ms/step - loss: 0.2742 - accuracy: 0.9156 - val_loss: 0.2646 - val_accuracy: 0.9197\n"
     ]
    }
   ],
   "source": [
    "history = model.fit(X_train,Y_train,validation_split=0.25,epochs=50)"
   ]
  },
  {
   "cell_type": "code",
   "execution_count": 10,
   "metadata": {},
   "outputs": [
    {
     "name": "stdout",
     "output_type": "stream",
     "text": [
      "313/313 [==============================] - 1s 3ms/step - loss: 0.2699 - accuracy: 0.9181\n"
     ]
    }
   ],
   "source": [
    "loss,metrics = model.evaluate(X_test,Y_test)"
   ]
  },
  {
   "cell_type": "code",
   "execution_count": 11,
   "metadata": {},
   "outputs": [
    {
     "name": "stdout",
     "output_type": "stream",
     "text": [
      "1 9\n"
     ]
    },
    {
     "data": {
      "image/png": "[encoded data removed]",
      "text/plain": [
       "<Figure size 432x288 with 2 Axes>"
      ]
     },
     "metadata": {
      "needs_background": "light"
     },
     "output_type": "display_data"
    }
   ],
   "source": [
    "plt.subplot(1,2,1)\n",
    "img = Image.fromarray(X_test[5])\n",
    "plt.imshow(img)\n",
    "plt.subplot(1,2,2)\n",
    "img = Image.fromarray(X_test[12])\n",
    "plt.imshow(img)\n",
    "print(Y_test[5],Y_test[12])"
   ]
  },
  {
   "cell_type": "code",
   "execution_count": 12,
   "metadata": {},
   "outputs": [],
   "source": [
    "test_pred = model.predict(X_test)"
   ]
  },
  {
   "cell_type": "code",
   "execution_count": 13,
   "metadata": {},
   "outputs": [],
   "source": [
    "Y_arg_max_list = [np.argmax(i) for i in test_pred]"
   ]
  },
  {
   "cell_type": "code",
   "execution_count": 14,
   "metadata": {},
   "outputs": [
    {
     "data": {
      "text/plain": [
       "[7, 2, 1, 0, 4, 1, 4, 9, 6, 9]"
      ]
     },
     "execution_count": 14,
     "metadata": {},
     "output_type": "execute_result"
    }
   ],
   "source": [
    "Y_arg_max_list[0:10]"
   ]
  },
  {
   "cell_type": "code",
   "execution_count": 15,
   "metadata": {},
   "outputs": [
    {
     "name": "stdout",
     "output_type": "stream",
     "text": [
      "[[ 962    0    1    1    0    3    6    2    4    1]\n",
      " [   0 1098    9    1    0    1    6    2   18    0]\n",
      " [  14   12  916   16   13    0   17   13   28    3]\n",
      " [   3    1   28  902    0   33    0   12   24    7]\n",
      " [   2    1    3    1  926    0   17    0    8   24]\n",
      " [  19    2    3   23    2  799   14    6   15    9]\n",
      " [  18    3    8    1   11   19  889    0    5    4]\n",
      " [   1   12   30    5    6    1    0  942    4   27]\n",
      " [  10    7   11   15    9   23   14    6  860   19]\n",
      " [   6    5    1    8   45   11    2   26   18  887]]\n"
     ]
    }
   ],
   "source": [
    "from sklearn.metrics import confusion_matrix\n",
    "cnf_matrix = confusion_matrix(Y_test,Y_arg_max_list)\n",
    "print(cnf_matrix)"
   ]
  },
  {
   "cell_type": "code",
   "execution_count": 16,
   "metadata": {},
   "outputs": [
    {
     "data": {
      "text/plain": [
       "Text(0.5, 69.0, 'Predicted Labels')"
      ]
     },
     "execution_count": 16,
     "metadata": {},
     "output_type": "execute_result"
    },
    {
     "data": {
      "image/png": "[encoded data removed]",
      "text/plain": [
       "<Figure size 864x720 with 2 Axes>"
      ]
     },
     "metadata": {
      "needs_background": "light"
     },
     "output_type": "display_data"
    }
   ],
   "source": [
    "plt.figure(figsize=(12,10))\n",
    "sns.heatmap(cnf_matrix,annot=True,cmap ='Blues',fmt='d')\n",
    "plt.ylabel('True Labels')\n",
    "plt.xlabel('Predicted Labels')"
   ]
  },
  {
   "cell_type": "code",
   "execution_count": 20,
   "metadata": {},
   "outputs": [
    {
     "data": {
      "text/plain": [
       "3"
      ]
     },
     "execution_count": 20,
     "metadata": {},
     "output_type": "execute_result"
    },
    {
     "data": {
      "image/png": "[encoded data removed]",
      "text/plain": [
       "<Figure size 432x288 with 1 Axes>"
      ]
     },
     "metadata": {
      "needs_background": "light"
     },
     "output_type": "display_data"
    }
   ],
   "source": [
    "test_img = cv2.imread(r'MNIST_digit.png')\n",
    "test_img = cv2.cvtColor(test_img,cv2.COLOR_RGB2GRAY)\n",
    "test_img = cv2.resize(test_img,(28,28))\n",
    "plt.imshow(test_img)\n",
    "scaled_img = test_img/255\n",
    "img_reshape = np.reshape(scaled_img,[1,28,28])\n",
    "input_pred = model.predict(img_reshape)\n",
    "np.argmax(input_pred)"
   ]
  },
  {
   "cell_type": "code",
   "execution_count": null,
   "metadata": {},
   "outputs": [],
   "source": []
  }
 ],
 "metadata": {
  "kernelspec": {
   "display_name": "Python 3.9.7 64-bit",
   "language": "python",
   "name": "python3"
  },
  "language_info": {
   "codemirror_mode": {
    "name": "ipython",
    "version": 3
   },
   "file_extension": ".py",
   "mimetype": "text/x-python",
   "name": "python",
   "nbconvert_exporter": "python",
   "pygments_lexer": "ipython3",
   "version": "3.9.7"
  },
  "orig_nbformat": 4,
  "vscode": {
   "interpreter": {
    "hash": "903d28fc8095cdeaee5be616f3ebb92fafee475741240b3f05159e4f3ac8bf72"
   }
  }
 },
 "nbformat": 4,
 "nbformat_minor": 2
}
