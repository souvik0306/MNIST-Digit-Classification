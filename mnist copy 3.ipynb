{
 "cells": [
  {
   "cell_type": "code",
   "execution_count": 1,
   "metadata": {},
   "outputs": [],
   "source": [
    "import numpy as np\n",
    "import matplotlib.pyplot as plt\n",
    "import seaborn as sns\n",
    "import tensorflow as tf\n",
    "from tensorflow import keras\n",
    "from sklearn.model_selection import train_test_split\n",
    "from sklearn.metrics import accuracy_score\n",
    "tf.random.set_seed(3)"
   ]
  },
  {
   "cell_type": "code",
   "execution_count": 2,
   "metadata": {},
   "outputs": [],
   "source": [
    "import cv2\n",
    "from PIL import Image"
   ]
  },
  {
   "cell_type": "code",
   "execution_count": 3,
   "metadata": {},
   "outputs": [],
   "source": [
    "from keras.datasets import mnist\n",
    "from tensorflow.math import confusion_matrix"
   ]
  },
  {
   "cell_type": "markdown",
   "metadata": {},
   "source": [
    "Loading MNIST Dataset"
   ]
  },
  {
   "cell_type": "code",
   "execution_count": 4,
   "metadata": {},
   "outputs": [],
   "source": [
    "(X_train,Y_train),(X_test,Y_test)=mnist.load_data()"
   ]
  },
  {
   "cell_type": "code",
   "execution_count": 5,
   "metadata": {},
   "outputs": [
    {
     "data": {
      "text/plain": [
       "((60000, 28, 28), (10000, 28, 28))"
      ]
     },
     "execution_count": 5,
     "metadata": {},
     "output_type": "execute_result"
    }
   ],
   "source": [
    "X_train.shape, X_test.shape"
   ]
  },
  {
   "cell_type": "code",
   "execution_count": 6,
   "metadata": {},
   "outputs": [
    {
     "data": {
      "text/plain": [
       "<matplotlib.image.AxesImage at 0x2236a301880>"
      ]
     },
     "execution_count": 6,
     "metadata": {},
     "output_type": "execute_result"
    },
    {
     "data": {
      "image/png": "[encoded data removed]",
      "text/plain": [
       "<Figure size 432x288 with 2 Axes>"
      ]
     },
     "metadata": {
      "needs_background": "light"
     },
     "output_type": "display_data"
    }
   ],
   "source": [
    "plt.subplot(1,2,1)\n",
    "img = Image.fromarray(X_train[5])\n",
    "plt.imshow(img)\n",
    "plt.subplot(1,2,2)\n",
    "img = Image.fromarray(X_train[12])\n",
    "plt.imshow(img)"
   ]
  },
  {
   "cell_type": "markdown",
   "metadata": {},
   "source": [
    "Setting up the Layers of NN"
   ]
  },
  {
   "cell_type": "code",
   "execution_count": 7,
   "metadata": {},
   "outputs": [],
   "source": [
    "model = keras.Sequential([\n",
    "    keras.layers.Flatten(input_shape=(28,28)),\n",
    "    keras.layers.Dense(40,activation='tanh'),\n",
    "    keras.layers.Dense(60,activation='tanh'),\n",
    "    keras.layers.Dense(80,activation='tanh'),\n",
    "    keras.layers.Dense(10,activation='softmax')\n",
    "                        ])"
   ]
  },
  {
   "cell_type": "code",
   "execution_count": 8,
   "metadata": {},
   "outputs": [],
   "source": [
    "model.compile(optimizer='adam',\n",
    "              loss = 'sparse_categorical_crossentropy',\n",
    "              metrics = ['accuracy']\n",
    "            )"
   ]
  },
  {
   "cell_type": "code",
   "execution_count": 9,
   "metadata": {},
   "outputs": [
    {
     "name": "stdout",
     "output_type": "stream",
     "text": [
      "Epoch 1/50\n",
      "1407/1407 [==============================] - 16s 9ms/step - loss: 0.7513 - accuracy: 0.7551 - val_loss: 0.5710 - val_accuracy: 0.8227\n",
      "Epoch 2/50\n",
      "1407/1407 [==============================] - 10s 7ms/step - loss: 0.5658 - accuracy: 0.8172 - val_loss: 0.5421 - val_accuracy: 0.8233\n",
      "Epoch 3/50\n",
      "1407/1407 [==============================] - 9s 7ms/step - loss: 0.5266 - accuracy: 0.8278 - val_loss: 0.4638 - val_accuracy: 0.8507\n",
      "Epoch 4/50\n",
      "1407/1407 [==============================] - 9s 7ms/step - loss: 0.4598 - accuracy: 0.8501 - val_loss: 0.3928 - val_accuracy: 0.8711\n",
      "Epoch 5/50\n",
      "1407/1407 [==============================] - 9s 7ms/step - loss: 0.4211 - accuracy: 0.8673 - val_loss: 0.3742 - val_accuracy: 0.8821\n",
      "Epoch 6/50\n",
      "1407/1407 [==============================] - 10s 7ms/step - loss: 0.4119 - accuracy: 0.8681 - val_loss: 0.3938 - val_accuracy: 0.8735\n",
      "Epoch 7/50\n",
      "1407/1407 [==============================] - 10s 7ms/step - loss: 0.4091 - accuracy: 0.8681 - val_loss: 0.4134 - val_accuracy: 0.8705\n",
      "Epoch 8/50\n",
      "1407/1407 [==============================] - 10s 7ms/step - loss: 0.3890 - accuracy: 0.8758 - val_loss: 0.3671 - val_accuracy: 0.8828\n",
      "Epoch 9/50\n",
      "1407/1407 [==============================] - 10s 7ms/step - loss: 0.3695 - accuracy: 0.8827 - val_loss: 0.3652 - val_accuracy: 0.8854\n",
      "Epoch 10/50\n",
      "1407/1407 [==============================] - 9s 7ms/step - loss: 0.3683 - accuracy: 0.8832 - val_loss: 0.3521 - val_accuracy: 0.8868\n",
      "Epoch 11/50\n",
      "1407/1407 [==============================] - 10s 7ms/step - loss: 0.3673 - accuracy: 0.8828 - val_loss: 0.3542 - val_accuracy: 0.8896\n",
      "Epoch 12/50\n",
      "1407/1407 [==============================] - 10s 7ms/step - loss: 0.3803 - accuracy: 0.8795 - val_loss: 0.3674 - val_accuracy: 0.8825\n",
      "Epoch 13/50\n",
      "1407/1407 [==============================] - 10s 7ms/step - loss: 0.3528 - accuracy: 0.8871 - val_loss: 0.3543 - val_accuracy: 0.8863\n",
      "Epoch 14/50\n",
      "1407/1407 [==============================] - 9s 7ms/step - loss: 0.3414 - accuracy: 0.8909 - val_loss: 0.3360 - val_accuracy: 0.8933\n",
      "Epoch 15/50\n",
      "1407/1407 [==============================] - 10s 7ms/step - loss: 0.3472 - accuracy: 0.8872 - val_loss: 0.3311 - val_accuracy: 0.8930\n",
      "Epoch 16/50\n",
      "1407/1407 [==============================] - 9s 7ms/step - loss: 0.3252 - accuracy: 0.8957 - val_loss: 0.3400 - val_accuracy: 0.8912\n",
      "Epoch 17/50\n",
      "1407/1407 [==============================] - 9s 7ms/step - loss: 0.3398 - accuracy: 0.8899 - val_loss: 0.3342 - val_accuracy: 0.8951\n",
      "Epoch 18/50\n",
      "1407/1407 [==============================] - 9s 7ms/step - loss: 0.3220 - accuracy: 0.8976 - val_loss: 0.3175 - val_accuracy: 0.9003\n",
      "Epoch 19/50\n",
      "1407/1407 [==============================] - 9s 7ms/step - loss: 0.3142 - accuracy: 0.9003 - val_loss: 0.3067 - val_accuracy: 0.9045\n",
      "Epoch 20/50\n",
      "1407/1407 [==============================] - 9s 7ms/step - loss: 0.3104 - accuracy: 0.8996 - val_loss: 0.3457 - val_accuracy: 0.8851\n",
      "Epoch 21/50\n",
      "1407/1407 [==============================] - 9s 7ms/step - loss: 0.3162 - accuracy: 0.8986 - val_loss: 0.3085 - val_accuracy: 0.9015\n",
      "Epoch 22/50\n",
      "1407/1407 [==============================] - 9s 7ms/step - loss: 0.2865 - accuracy: 0.9109 - val_loss: 0.2828 - val_accuracy: 0.9096\n",
      "Epoch 23/50\n",
      "1407/1407 [==============================] - 9s 7ms/step - loss: 0.2684 - accuracy: 0.9150 - val_loss: 0.2769 - val_accuracy: 0.9124\n",
      "Epoch 24/50\n",
      "1407/1407 [==============================] - 9s 7ms/step - loss: 0.2720 - accuracy: 0.9144 - val_loss: 0.2705 - val_accuracy: 0.9160\n",
      "Epoch 25/50\n",
      "1407/1407 [==============================] - 9s 7ms/step - loss: 0.2644 - accuracy: 0.9170 - val_loss: 0.2676 - val_accuracy: 0.9159\n",
      "Epoch 26/50\n",
      "1407/1407 [==============================] - 9s 7ms/step - loss: 0.2779 - accuracy: 0.9111 - val_loss: 0.2927 - val_accuracy: 0.9061\n",
      "Epoch 27/50\n",
      "1407/1407 [==============================] - 9s 7ms/step - loss: 0.2757 - accuracy: 0.9133 - val_loss: 0.2877 - val_accuracy: 0.9082\n",
      "Epoch 28/50\n",
      "1407/1407 [==============================] - 10s 7ms/step - loss: 0.2635 - accuracy: 0.9174 - val_loss: 0.2577 - val_accuracy: 0.9229\n",
      "Epoch 29/50\n",
      "1407/1407 [==============================] - 9s 7ms/step - loss: 0.2608 - accuracy: 0.9180 - val_loss: 0.2711 - val_accuracy: 0.9159\n",
      "Epoch 30/50\n",
      "1407/1407 [==============================] - 9s 7ms/step - loss: 0.2630 - accuracy: 0.9173 - val_loss: 0.2691 - val_accuracy: 0.9178\n",
      "Epoch 31/50\n",
      "1407/1407 [==============================] - 9s 7ms/step - loss: 0.2611 - accuracy: 0.9186 - val_loss: 0.2605 - val_accuracy: 0.9206\n",
      "Epoch 32/50\n",
      "1407/1407 [==============================] - 9s 7ms/step - loss: 0.2535 - accuracy: 0.9194 - val_loss: 0.2766 - val_accuracy: 0.9158\n",
      "Epoch 33/50\n",
      "1407/1407 [==============================] - 9s 7ms/step - loss: 0.2501 - accuracy: 0.9202 - val_loss: 0.2562 - val_accuracy: 0.9210\n",
      "Epoch 34/50\n",
      "1407/1407 [==============================] - 9s 7ms/step - loss: 0.2704 - accuracy: 0.9141 - val_loss: 0.3012 - val_accuracy: 0.9049\n",
      "Epoch 35/50\n",
      "1407/1407 [==============================] - 9s 7ms/step - loss: 0.2805 - accuracy: 0.9112 - val_loss: 0.2764 - val_accuracy: 0.9154\n",
      "Epoch 36/50\n",
      "1407/1407 [==============================] - 9s 7ms/step - loss: 0.2612 - accuracy: 0.9172 - val_loss: 0.2582 - val_accuracy: 0.9215\n",
      "Epoch 37/50\n",
      "1407/1407 [==============================] - 10s 7ms/step - loss: 0.2514 - accuracy: 0.9194 - val_loss: 0.2520 - val_accuracy: 0.9203\n",
      "Epoch 38/50\n",
      "1407/1407 [==============================] - 12s 9ms/step - loss: 0.2485 - accuracy: 0.9220 - val_loss: 0.2672 - val_accuracy: 0.9161\n",
      "Epoch 39/50\n",
      "1407/1407 [==============================] - 9s 6ms/step - loss: 0.2476 - accuracy: 0.9228 - val_loss: 0.2810 - val_accuracy: 0.9133\n",
      "Epoch 40/50\n",
      "1407/1407 [==============================] - 10s 7ms/step - loss: 0.2471 - accuracy: 0.9224 - val_loss: 0.2573 - val_accuracy: 0.9213\n",
      "Epoch 41/50\n",
      "1407/1407 [==============================] - 11s 8ms/step - loss: 0.2397 - accuracy: 0.9253 - val_loss: 0.2567 - val_accuracy: 0.9213\n",
      "Epoch 42/50\n",
      "1407/1407 [==============================] - 10s 7ms/step - loss: 0.2599 - accuracy: 0.9183 - val_loss: 0.2750 - val_accuracy: 0.9163\n",
      "Epoch 43/50\n",
      "1407/1407 [==============================] - 9s 7ms/step - loss: 0.2667 - accuracy: 0.9166 - val_loss: 0.2676 - val_accuracy: 0.9205\n",
      "Epoch 44/50\n",
      "1407/1407 [==============================] - 9s 7ms/step - loss: 0.2678 - accuracy: 0.9146 - val_loss: 0.2789 - val_accuracy: 0.9166\n",
      "Epoch 45/50\n",
      "1407/1407 [==============================] - 9s 7ms/step - loss: 0.2566 - accuracy: 0.9185 - val_loss: 0.2552 - val_accuracy: 0.9223\n",
      "Epoch 46/50\n",
      "1407/1407 [==============================] - 9s 7ms/step - loss: 0.2359 - accuracy: 0.9241 - val_loss: 0.2529 - val_accuracy: 0.9214\n",
      "Epoch 47/50\n",
      "1407/1407 [==============================] - 9s 7ms/step - loss: 0.2247 - accuracy: 0.9286 - val_loss: 0.2401 - val_accuracy: 0.9261\n",
      "Epoch 48/50\n",
      "1407/1407 [==============================] - 9s 7ms/step - loss: 0.2312 - accuracy: 0.9280 - val_loss: 0.2624 - val_accuracy: 0.9193\n",
      "Epoch 49/50\n",
      "1407/1407 [==============================] - 9s 7ms/step - loss: 0.2463 - accuracy: 0.9220 - val_loss: 0.2553 - val_accuracy: 0.9211\n",
      "Epoch 50/50\n",
      "1407/1407 [==============================] - 10s 7ms/step - loss: 0.2338 - accuracy: 0.9262 - val_loss: 0.2495 - val_accuracy: 0.9257\n"
     ]
    }
   ],
   "source": [
    "history = model.fit(X_train,Y_train,validation_split=0.25,epochs=50)"
   ]
  },
  {
   "cell_type": "code",
   "execution_count": 10,
   "metadata": {},
   "outputs": [
    {
     "name": "stdout",
     "output_type": "stream",
     "text": [
      "313/313 [==============================] - 2s 5ms/step - loss: 0.2472 - accuracy: 0.9253\n"
     ]
    }
   ],
   "source": [
    "loss,metrics = model.evaluate(X_test,Y_test)"
   ]
  },
  {
   "cell_type": "code",
   "execution_count": 11,
   "metadata": {},
   "outputs": [
    {
     "name": "stdout",
     "output_type": "stream",
     "text": [
      "1 9\n"
     ]
    },
    {
     "data": {
      "image/png": "[encoded data removed]",
      "text/plain": [
       "<Figure size 432x288 with 2 Axes>"
      ]
     },
     "metadata": {
      "needs_background": "light"
     },
     "output_type": "display_data"
    }
   ],
   "source": [
    "plt.subplot(1,2,1)\n",
    "img = Image.fromarray(X_test[5])\n",
    "plt.imshow(img)\n",
    "plt.subplot(1,2,2)\n",
    "img = Image.fromarray(X_test[12])\n",
    "plt.imshow(img)\n",
    "print(Y_test[5],Y_test[12])"
   ]
  },
  {
   "cell_type": "code",
   "execution_count": 12,
   "metadata": {},
   "outputs": [],
   "source": [
    "test_pred = model.predict(X_test)"
   ]
  },
  {
   "cell_type": "code",
   "execution_count": 13,
   "metadata": {},
   "outputs": [],
   "source": [
    "Y_arg_max_list = [np.argmax(i) for i in test_pred]"
   ]
  },
  {
   "cell_type": "code",
   "execution_count": 14,
   "metadata": {},
   "outputs": [
    {
     "data": {
      "text/plain": [
       "[7, 2, 1, 0, 4, 1, 4, 9, 5, 9]"
      ]
     },
     "execution_count": 14,
     "metadata": {},
     "output_type": "execute_result"
    }
   ],
   "source": [
    "Y_arg_max_list[0:10]"
   ]
  },
  {
   "cell_type": "code",
   "execution_count": 15,
   "metadata": {},
   "outputs": [
    {
     "name": "stdout",
     "output_type": "stream",
     "text": [
      "[[ 952    0    2    2    1    5    8    2    6    2]\n",
      " [   0 1110    8    2    0    2    5    2    6    0]\n",
      " [   8    4  978    5    4    5    9    7   10    2]\n",
      " [   3    5   25  914    1   26    2   15   15    4]\n",
      " [   1    1    3    2  886    4   12    6    3   64]\n",
      " [   8    1    3   14    6  819   15    6   14    6]\n",
      " [  12    2    1    2    9   12  915    1    3    1]\n",
      " [   2    8   28   23    8    1    0  927    5   26]\n",
      " [   7    2   16   22    9   17   26    3  859   13]\n",
      " [   4    8    1    5   41   14    1   21   21  893]]\n"
     ]
    }
   ],
   "source": [
    "from sklearn.metrics import confusion_matrix\n",
    "cnf_matrix = confusion_matrix(Y_test,Y_arg_max_list)\n",
    "print(cnf_matrix)"
   ]
  },
  {
   "cell_type": "code",
   "execution_count": 16,
   "metadata": {},
   "outputs": [
    {
     "data": {
      "text/plain": [
       "Text(0.5, 69.0, 'Predicted Labels')"
      ]
     },
     "execution_count": 16,
     "metadata": {},
     "output_type": "execute_result"
    },
    {
     "data": {
      "image/png": "[encoded data removed]",
      "text/plain": [
       "<Figure size 864x720 with 2 Axes>"
      ]
     },
     "metadata": {
      "needs_background": "light"
     },
     "output_type": "display_data"
    }
   ],
   "source": [
    "plt.figure(figsize=(12,10))\n",
    "sns.heatmap(cnf_matrix,annot=True,cmap ='Blues',fmt='d')\n",
    "plt.ylabel('True Labels')\n",
    "plt.xlabel('Predicted Labels')"
   ]
  },
  {
   "cell_type": "code",
   "execution_count": null,
   "metadata": {},
   "outputs": [],
   "source": []
  }
 ],
 "metadata": {
  "kernelspec": {
   "display_name": "Python 3.9.7 64-bit",
   "language": "python",
   "name": "python3"
  },
  "language_info": {
   "codemirror_mode": {
    "name": "ipython",
    "version": 3
   },
   "file_extension": ".py",
   "mimetype": "text/x-python",
   "name": "python",
   "nbconvert_exporter": "python",
   "pygments_lexer": "ipython3",
   "version": "3.9.7"
  },
  "orig_nbformat": 4,
  "vscode": {
   "interpreter": {
    "hash": "903d28fc8095cdeaee5be616f3ebb92fafee475741240b3f05159e4f3ac8bf72"
   }
  }
 },
 "nbformat": 4,
 "nbformat_minor": 2
}
