{
 "cells": [
  {
   "cell_type": "code",
   "execution_count": 1,
   "metadata": {},
   "outputs": [],
   "source": [
    "import numpy as np\n",
    "import matplotlib.pyplot as plt\n",
    "import seaborn as sns\n",
    "import tensorflow as tf\n",
    "from tensorflow import keras\n",
    "from sklearn.model_selection import train_test_split\n",
    "from sklearn.metrics import accuracy_score\n",
    "tf.random.set_seed(3)"
   ]
  },
  {
   "cell_type": "code",
   "execution_count": 2,
   "metadata": {},
   "outputs": [],
   "source": [
    "import cv2\n",
    "from PIL import Image"
   ]
  },
  {
   "cell_type": "code",
   "execution_count": 3,
   "metadata": {},
   "outputs": [],
   "source": [
    "from keras.datasets import mnist\n",
    "from tensorflow.math import confusion_matrix"
   ]
  },
  {
   "cell_type": "markdown",
   "metadata": {},
   "source": [
    "Loading MNIST Dataset"
   ]
  },
  {
   "cell_type": "code",
   "execution_count": 4,
   "metadata": {},
   "outputs": [],
   "source": [
    "(X_train,Y_train),(X_test,Y_test)=mnist.load_data()"
   ]
  },
  {
   "cell_type": "code",
   "execution_count": 5,
   "metadata": {},
   "outputs": [
    {
     "data": {
      "text/plain": [
       "((60000, 28, 28), (10000, 28, 28))"
      ]
     },
     "execution_count": 5,
     "metadata": {},
     "output_type": "execute_result"
    }
   ],
   "source": [
    "X_train.shape, X_test.shape"
   ]
  },
  {
   "cell_type": "code",
   "execution_count": 6,
   "metadata": {},
   "outputs": [
    {
     "data": {
      "text/plain": [
       "<matplotlib.image.AxesImage at 0x2070cc40880>"
      ]
     },
     "execution_count": 6,
     "metadata": {},
     "output_type": "execute_result"
    },
    {
     "data": {
      "image/png": "[encoded data removed]",
      "text/plain": [
       "<Figure size 432x288 with 2 Axes>"
      ]
     },
     "metadata": {
      "needs_background": "light"
     },
     "output_type": "display_data"
    }
   ],
   "source": [
    "plt.subplot(1,2,1)\n",
    "img = Image.fromarray(X_train[5])\n",
    "plt.imshow(img)\n",
    "plt.subplot(1,2,2)\n",
    "img = Image.fromarray(X_train[12])\n",
    "plt.imshow(img)"
   ]
  },
  {
   "cell_type": "markdown",
   "metadata": {},
   "source": [
    "Setting up the Layers of NN"
   ]
  },
  {
   "cell_type": "code",
   "execution_count": 7,
   "metadata": {},
   "outputs": [],
   "source": [
    "model = keras.Sequential([\n",
    "    keras.layers.Flatten(input_shape=(28,28)),\n",
    "    keras.layers.Dense(40,activation='relu'),\n",
    "    keras.layers.Dense(60,activation='relu'),\n",
    "    keras.layers.Dense(10,activation='softmax')\n",
    "                        ])"
   ]
  },
  {
   "cell_type": "code",
   "execution_count": 8,
   "metadata": {},
   "outputs": [],
   "source": [
    "model.compile(optimizer='adam',\n",
    "              loss = 'sparse_categorical_crossentropy',\n",
    "              metrics = ['accuracy']\n",
    "            )"
   ]
  },
  {
   "cell_type": "code",
   "execution_count": 9,
   "metadata": {},
   "outputs": [
    {
     "name": "stdout",
     "output_type": "stream",
     "text": [
      "Epoch 1/50\n",
      "1407/1407 [==============================] - 12s 7ms/step - loss: 1.7159 - accuracy: 0.7338 - val_loss: 0.5339 - val_accuracy: 0.8640\n",
      "Epoch 2/50\n",
      "1407/1407 [==============================] - 9s 6ms/step - loss: 0.4814 - accuracy: 0.8807 - val_loss: 0.4658 - val_accuracy: 0.8879\n",
      "Epoch 3/50\n",
      "1407/1407 [==============================] - 9s 6ms/step - loss: 0.3967 - accuracy: 0.9014 - val_loss: 0.3984 - val_accuracy: 0.9040\n",
      "Epoch 4/50\n",
      "1407/1407 [==============================] - 9s 6ms/step - loss: 0.3443 - accuracy: 0.9152 - val_loss: 0.3341 - val_accuracy: 0.9183\n",
      "Epoch 5/50\n",
      "1407/1407 [==============================] - 9s 6ms/step - loss: 0.3264 - accuracy: 0.9192 - val_loss: 0.3773 - val_accuracy: 0.9093\n",
      "Epoch 6/50\n",
      "1407/1407 [==============================] - 8s 6ms/step - loss: 0.3013 - accuracy: 0.9245 - val_loss: 0.3035 - val_accuracy: 0.9230\n",
      "Epoch 7/50\n",
      "1407/1407 [==============================] - 8s 6ms/step - loss: 0.2743 - accuracy: 0.9303 - val_loss: 0.3326 - val_accuracy: 0.9206\n",
      "Epoch 8/50\n",
      "1407/1407 [==============================] - 8s 6ms/step - loss: 0.2627 - accuracy: 0.9324 - val_loss: 0.3258 - val_accuracy: 0.9240\n",
      "Epoch 9/50\n",
      "1407/1407 [==============================] - 8s 6ms/step - loss: 0.2370 - accuracy: 0.9388 - val_loss: 0.2662 - val_accuracy: 0.9318\n",
      "Epoch 10/50\n",
      "1407/1407 [==============================] - 8s 6ms/step - loss: 0.2140 - accuracy: 0.9422 - val_loss: 0.2960 - val_accuracy: 0.9309\n",
      "Epoch 11/50\n",
      "1407/1407 [==============================] - 8s 6ms/step - loss: 0.1962 - accuracy: 0.9468 - val_loss: 0.2681 - val_accuracy: 0.9335\n",
      "Epoch 12/50\n",
      "1407/1407 [==============================] - 9s 6ms/step - loss: 0.1859 - accuracy: 0.9482 - val_loss: 0.2433 - val_accuracy: 0.9378\n",
      "Epoch 13/50\n",
      "1407/1407 [==============================] - 9s 6ms/step - loss: 0.1746 - accuracy: 0.9517 - val_loss: 0.2322 - val_accuracy: 0.9420\n",
      "Epoch 14/50\n",
      "1407/1407 [==============================] - 9s 6ms/step - loss: 0.1657 - accuracy: 0.9526 - val_loss: 0.2502 - val_accuracy: 0.9400\n",
      "Epoch 15/50\n",
      "1407/1407 [==============================] - 8s 6ms/step - loss: 0.1617 - accuracy: 0.9546 - val_loss: 0.2211 - val_accuracy: 0.9439\n",
      "Epoch 16/50\n",
      "1407/1407 [==============================] - 9s 6ms/step - loss: 0.1496 - accuracy: 0.9576 - val_loss: 0.2459 - val_accuracy: 0.9427\n",
      "Epoch 17/50\n",
      "1407/1407 [==============================] - 9s 6ms/step - loss: 0.1489 - accuracy: 0.9575 - val_loss: 0.2371 - val_accuracy: 0.9396\n",
      "Epoch 18/50\n",
      "1407/1407 [==============================] - 9s 6ms/step - loss: 0.1411 - accuracy: 0.9600 - val_loss: 0.2309 - val_accuracy: 0.9419\n",
      "Epoch 19/50\n",
      "1407/1407 [==============================] - 9s 6ms/step - loss: 0.1422 - accuracy: 0.9592 - val_loss: 0.2204 - val_accuracy: 0.9459\n",
      "Epoch 20/50\n",
      "1407/1407 [==============================] - 9s 6ms/step - loss: 0.1336 - accuracy: 0.9609 - val_loss: 0.2181 - val_accuracy: 0.9472\n",
      "Epoch 21/50\n",
      "1407/1407 [==============================] - 9s 7ms/step - loss: 0.1298 - accuracy: 0.9624 - val_loss: 0.2234 - val_accuracy: 0.9465\n",
      "Epoch 22/50\n",
      "1407/1407 [==============================] - 9s 6ms/step - loss: 0.1274 - accuracy: 0.9633 - val_loss: 0.2729 - val_accuracy: 0.9356\n",
      "Epoch 23/50\n",
      "1407/1407 [==============================] - 9s 6ms/step - loss: 0.1239 - accuracy: 0.9644 - val_loss: 0.2546 - val_accuracy: 0.9435\n",
      "Epoch 24/50\n",
      "1407/1407 [==============================] - 9s 6ms/step - loss: 0.1189 - accuracy: 0.9653 - val_loss: 0.2347 - val_accuracy: 0.9457\n",
      "Epoch 25/50\n",
      "1407/1407 [==============================] - 9s 6ms/step - loss: 0.1179 - accuracy: 0.9664 - val_loss: 0.2561 - val_accuracy: 0.9450\n",
      "Epoch 26/50\n",
      "1407/1407 [==============================] - 9s 6ms/step - loss: 0.1165 - accuracy: 0.9665 - val_loss: 0.2523 - val_accuracy: 0.9461\n",
      "Epoch 27/50\n",
      "1407/1407 [==============================] - 9s 6ms/step - loss: 0.1123 - accuracy: 0.9677 - val_loss: 0.2383 - val_accuracy: 0.9479\n",
      "Epoch 28/50\n",
      "1407/1407 [==============================] - 9s 6ms/step - loss: 0.1138 - accuracy: 0.9673 - val_loss: 0.2517 - val_accuracy: 0.9503\n",
      "Epoch 29/50\n",
      "1407/1407 [==============================] - 9s 7ms/step - loss: 0.1065 - accuracy: 0.9698 - val_loss: 0.2443 - val_accuracy: 0.9497\n",
      "Epoch 30/50\n",
      "1407/1407 [==============================] - 9s 6ms/step - loss: 0.1091 - accuracy: 0.9684 - val_loss: 0.2649 - val_accuracy: 0.9443\n",
      "Epoch 31/50\n",
      "1407/1407 [==============================] - 9s 6ms/step - loss: 0.1071 - accuracy: 0.9704 - val_loss: 0.2799 - val_accuracy: 0.9442\n",
      "Epoch 32/50\n",
      "1407/1407 [==============================] - 9s 6ms/step - loss: 0.1046 - accuracy: 0.9707 - val_loss: 0.2567 - val_accuracy: 0.9444\n",
      "Epoch 33/50\n",
      "1407/1407 [==============================] - 9s 6ms/step - loss: 0.1045 - accuracy: 0.9699 - val_loss: 0.2722 - val_accuracy: 0.9454\n",
      "Epoch 34/50\n",
      "1407/1407 [==============================] - 9s 6ms/step - loss: 0.1041 - accuracy: 0.9708 - val_loss: 0.2971 - val_accuracy: 0.9496\n",
      "Epoch 35/50\n",
      "1407/1407 [==============================] - 9s 6ms/step - loss: 0.1016 - accuracy: 0.9706 - val_loss: 0.2654 - val_accuracy: 0.9440\n",
      "Epoch 36/50\n",
      "1407/1407 [==============================] - 9s 6ms/step - loss: 0.0960 - accuracy: 0.9724 - val_loss: 0.2551 - val_accuracy: 0.9470\n",
      "Epoch 37/50\n",
      "1407/1407 [==============================] - 9s 6ms/step - loss: 0.0961 - accuracy: 0.9724 - val_loss: 0.2749 - val_accuracy: 0.9477\n",
      "Epoch 38/50\n",
      "1407/1407 [==============================] - 9s 6ms/step - loss: 0.0993 - accuracy: 0.9721 - val_loss: 0.2785 - val_accuracy: 0.9471\n",
      "Epoch 39/50\n",
      "1407/1407 [==============================] - 9s 6ms/step - loss: 0.0952 - accuracy: 0.9728 - val_loss: 0.2454 - val_accuracy: 0.9510\n",
      "Epoch 40/50\n",
      "1407/1407 [==============================] - 9s 6ms/step - loss: 0.0928 - accuracy: 0.9738 - val_loss: 0.2840 - val_accuracy: 0.9447\n",
      "Epoch 41/50\n",
      "1407/1407 [==============================] - 9s 6ms/step - loss: 0.0905 - accuracy: 0.9740 - val_loss: 0.2946 - val_accuracy: 0.9490\n",
      "Epoch 42/50\n",
      "1407/1407 [==============================] - 9s 6ms/step - loss: 0.0901 - accuracy: 0.9741 - val_loss: 0.2889 - val_accuracy: 0.9439\n",
      "Epoch 43/50\n",
      "1407/1407 [==============================] - 9s 6ms/step - loss: 0.0860 - accuracy: 0.9745 - val_loss: 0.3022 - val_accuracy: 0.9451\n",
      "Epoch 44/50\n",
      "1407/1407 [==============================] - 9s 6ms/step - loss: 0.0919 - accuracy: 0.9749 - val_loss: 0.2882 - val_accuracy: 0.9473\n",
      "Epoch 45/50\n",
      "1407/1407 [==============================] - 9s 6ms/step - loss: 0.0854 - accuracy: 0.9753 - val_loss: 0.2856 - val_accuracy: 0.9492\n",
      "Epoch 46/50\n",
      "1407/1407 [==============================] - 9s 6ms/step - loss: 0.0834 - accuracy: 0.9754 - val_loss: 0.2996 - val_accuracy: 0.9459\n",
      "Epoch 47/50\n",
      "1407/1407 [==============================] - 9s 6ms/step - loss: 0.0901 - accuracy: 0.9752 - val_loss: 0.3256 - val_accuracy: 0.9455\n",
      "Epoch 48/50\n",
      "1407/1407 [==============================] - 9s 6ms/step - loss: 0.0868 - accuracy: 0.9760 - val_loss: 0.3143 - val_accuracy: 0.9486\n",
      "Epoch 49/50\n",
      "1407/1407 [==============================] - 9s 6ms/step - loss: 0.0856 - accuracy: 0.9764 - val_loss: 0.3107 - val_accuracy: 0.9468\n",
      "Epoch 50/50\n",
      "1407/1407 [==============================] - 9s 7ms/step - loss: 0.0882 - accuracy: 0.9755 - val_loss: 0.3193 - val_accuracy: 0.9513\n"
     ]
    }
   ],
   "source": [
    "history = model.fit(X_train,Y_train,validation_split=0.25,epochs=50)"
   ]
  },
  {
   "cell_type": "code",
   "execution_count": 10,
   "metadata": {},
   "outputs": [
    {
     "name": "stdout",
     "output_type": "stream",
     "text": [
      "313/313 [==============================] - 2s 5ms/step - loss: 0.2754 - accuracy: 0.9559\n"
     ]
    }
   ],
   "source": [
    "loss,metrics = model.evaluate(X_test,Y_test)"
   ]
  },
  {
   "cell_type": "code",
   "execution_count": 11,
   "metadata": {},
   "outputs": [
    {
     "name": "stdout",
     "output_type": "stream",
     "text": [
      "1 9\n"
     ]
    },
    {
     "data": {
      "image/png": "[encoded data removed]",
      "text/plain": [
       "<Figure size 432x288 with 2 Axes>"
      ]
     },
     "metadata": {
      "needs_background": "light"
     },
     "output_type": "display_data"
    }
   ],
   "source": [
    "plt.subplot(1,2,1)\n",
    "img = Image.fromarray(X_test[5])\n",
    "plt.imshow(img)\n",
    "plt.subplot(1,2,2)\n",
    "img = Image.fromarray(X_test[12])\n",
    "plt.imshow(img)\n",
    "print(Y_test[5],Y_test[12])"
   ]
  },
  {
   "cell_type": "code",
   "execution_count": 12,
   "metadata": {},
   "outputs": [],
   "source": [
    "test_pred = model.predict(X_test)"
   ]
  },
  {
   "cell_type": "code",
   "execution_count": 13,
   "metadata": {},
   "outputs": [],
   "source": [
    "Y_arg_max_list = [np.argmax(i) for i in test_pred]"
   ]
  },
  {
   "cell_type": "code",
   "execution_count": 14,
   "metadata": {},
   "outputs": [
    {
     "data": {
      "text/plain": [
       "[7, 2, 1, 0, 4, 1, 4, 9, 6, 9]"
      ]
     },
     "execution_count": 14,
     "metadata": {},
     "output_type": "execute_result"
    }
   ],
   "source": [
    "Y_arg_max_list[0:10]"
   ]
  },
  {
   "cell_type": "code",
   "execution_count": 15,
   "metadata": {},
   "outputs": [
    {
     "name": "stdout",
     "output_type": "stream",
     "text": [
      "[[ 964    0    1    2    0    3    3    3    3    1]\n",
      " [   0 1109    3    3    2    2    3    0   12    1]\n",
      " [   7    6  973   16    3    0    2   11   10    4]\n",
      " [   2    1   11  970    1    5    0    7   11    2]\n",
      " [   2    1    7    3  913    0    3    3    8   42]\n",
      " [   4    0    1   25    0  837    9    2    9    5]\n",
      " [   8    3    5    1    5    9  919    0    8    0]\n",
      " [   0    7   12    6    1    0    0  994    1    7]\n",
      " [   7    2    8   11    2    5    3    6  920   10]\n",
      " [   3    2    1    9    9    2    1    9   13  960]]\n"
     ]
    }
   ],
   "source": [
    "from sklearn.metrics import confusion_matrix\n",
    "cnf_matrix = confusion_matrix(Y_test,Y_arg_max_list)\n",
    "print(cnf_matrix)"
   ]
  },
  {
   "cell_type": "code",
   "execution_count": 16,
   "metadata": {},
   "outputs": [
    {
     "data": {
      "text/plain": [
       "Text(0.5, 69.0, 'Predicted Labels')"
      ]
     },
     "execution_count": 16,
     "metadata": {},
     "output_type": "execute_result"
    },
    {
     "data": {
      "image/png": "[encoded data removed]",
      "text/plain": [
       "<Figure size 864x720 with 2 Axes>"
      ]
     },
     "metadata": {
      "needs_background": "light"
     },
     "output_type": "display_data"
    }
   ],
   "source": [
    "plt.figure(figsize=(12,10))\n",
    "sns.heatmap(cnf_matrix,annot=True,cmap ='Blues',fmt='d')\n",
    "plt.ylabel('True Labels')\n",
    "plt.xlabel('Predicted Labels')"
   ]
  },
  {
   "cell_type": "code",
   "execution_count": 17,
   "metadata": {},
   "outputs": [
    {
     "data": {
      "text/plain": [
       "3"
      ]
     },
     "execution_count": 17,
     "metadata": {},
     "output_type": "execute_result"
    },
    {
     "data": {
      "image/png": "[encoded data removed]",
      "text/plain": [
       "<Figure size 432x288 with 1 Axes>"
      ]
     },
     "metadata": {
      "needs_background": "light"
     },
     "output_type": "display_data"
    }
   ],
   "source": [
    "test_img = cv2.imread(r'MNIST_digit.png')\n",
    "test_img = cv2.cvtColor(test_img,cv2.COLOR_RGB2GRAY)\n",
    "test_img = cv2.resize(test_img,(28,28))\n",
    "plt.imshow(test_img)\n",
    "scaled_img = test_img/255\n",
    "img_reshape = np.reshape(scaled_img,[1,28,28])\n",
    "input_pred = model.predict(img_reshape)\n",
    "np.argmax(input_pred)"
   ]
  },
  {
   "cell_type": "code",
   "execution_count": null,
   "metadata": {},
   "outputs": [],
   "source": []
  }
 ],
 "metadata": {
  "kernelspec": {
   "display_name": "Python 3.9.7 64-bit",
   "language": "python",
   "name": "python3"
  },
  "language_info": {
   "codemirror_mode": {
    "name": "ipython",
    "version": 3
   },
   "file_extension": ".py",
   "mimetype": "text/x-python",
   "name": "python",
   "nbconvert_exporter": "python",
   "pygments_lexer": "ipython3",
   "version": "3.9.7"
  },
  "orig_nbformat": 4,
  "vscode": {
   "interpreter": {
    "hash": "903d28fc8095cdeaee5be616f3ebb92fafee475741240b3f05159e4f3ac8bf72"
   }
  }
 },
 "nbformat": 4,
 "nbformat_minor": 2
}
